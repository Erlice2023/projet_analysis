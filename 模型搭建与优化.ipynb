{
 "cells": [
  {
   "cell_type": "markdown",
   "id": "25b217fa",
   "metadata": {},
   "source": [
    "# 基于模型泛化效果、可解释性考虑，初定选定以下三种模型框架进行尝试\n",
    "\n",
    "## 1.具有强解释性的决策树模型\n",
    "\n",
    "## 2.以bagging思想进行集成集成的随机森林模型\n",
    "\n",
    "## 3.以boosting思想进行集成的xgb模型"
   ]
  },
  {
   "cell_type": "code",
   "execution_count": 41,
   "id": "d37b8f6d",
   "metadata": {},
   "outputs": [],
   "source": [
    "import pandas as pd\n",
    "from sklearn.model_selection import train_test_split\n",
    "from sklearn.ensemble import RandomForestClassifier\n",
    "from sklearn import tree  \n",
    "import xgboost as xgb\n",
    "from xgboost import XGBClassifier\n",
    "from sklearn.model_selection import GridSearchCV \n",
    "from sklearn.metrics import roc_auc_score\n",
    "import joblib"
   ]
  },
  {
   "cell_type": "code",
   "execution_count": 2,
   "id": "6dd319e7",
   "metadata": {},
   "outputs": [],
   "source": [
    "def auc_score_fig(clf,x,y_test):  #计算auc，三参数分别为分类器，特征与标签\n",
    "    y_probs = clf.predict_proba(x)\n",
    "    y_probs = y_probs[:,1]\n",
    "    auc = roc_auc_score(y_test, y_probs)\n",
    "    return auc"
   ]
  },
  {
   "cell_type": "code",
   "execution_count": 3,
   "id": "2ec23a0e",
   "metadata": {},
   "outputs": [],
   "source": [
    "#读取数据\n",
    "df_train = pd.read_csv(r\"C:\\Users\\17738\\贷款违约率预测\\数据集\\train_clean.csv\")\n",
    "df_test = pd.read_csv(r\"C:\\Users\\17738\\贷款违约率预测\\数据集\\test_clean.csv\")"
   ]
  },
  {
   "cell_type": "markdown",
   "id": "5735812d",
   "metadata": {},
   "source": [
    "在训练数据中单独划分一个测试集用来评估模型的泛化效果"
   ]
  },
  {
   "cell_type": "code",
   "execution_count": 4,
   "id": "2beb0146",
   "metadata": {},
   "outputs": [],
   "source": [
    "train_data, test_data = train_test_split(df_train, test_size=0.2, random_state=1)   "
   ]
  },
  {
   "cell_type": "code",
   "execution_count": 5,
   "id": "0f2f0eed",
   "metadata": {},
   "outputs": [
    {
     "data": {
      "text/html": [
       "<div>\n",
       "<style scoped>\n",
       "    .dataframe tbody tr th:only-of-type {\n",
       "        vertical-align: middle;\n",
       "    }\n",
       "\n",
       "    .dataframe tbody tr th {\n",
       "        vertical-align: top;\n",
       "    }\n",
       "\n",
       "    .dataframe thead th {\n",
       "        text-align: right;\n",
       "    }\n",
       "</style>\n",
       "<table border=\"1\" class=\"dataframe\">\n",
       "  <thead>\n",
       "    <tr style=\"text-align: right;\">\n",
       "      <th></th>\n",
       "      <th>id</th>\n",
       "      <th>loanAmnt</th>\n",
       "      <th>term</th>\n",
       "      <th>interestRate</th>\n",
       "      <th>installment</th>\n",
       "      <th>grade</th>\n",
       "      <th>subGrade</th>\n",
       "      <th>employmentTitle</th>\n",
       "      <th>employmentLength</th>\n",
       "      <th>homeOwnership</th>\n",
       "      <th>...</th>\n",
       "      <th>n5</th>\n",
       "      <th>n6</th>\n",
       "      <th>n7</th>\n",
       "      <th>n8</th>\n",
       "      <th>n9</th>\n",
       "      <th>n10</th>\n",
       "      <th>n11</th>\n",
       "      <th>n12</th>\n",
       "      <th>n13</th>\n",
       "      <th>n14</th>\n",
       "    </tr>\n",
       "    <tr>\n",
       "      <th>isDefault</th>\n",
       "      <th></th>\n",
       "      <th></th>\n",
       "      <th></th>\n",
       "      <th></th>\n",
       "      <th></th>\n",
       "      <th></th>\n",
       "      <th></th>\n",
       "      <th></th>\n",
       "      <th></th>\n",
       "      <th></th>\n",
       "      <th></th>\n",
       "      <th></th>\n",
       "      <th></th>\n",
       "      <th></th>\n",
       "      <th></th>\n",
       "      <th></th>\n",
       "      <th></th>\n",
       "      <th></th>\n",
       "      <th></th>\n",
       "      <th></th>\n",
       "      <th></th>\n",
       "    </tr>\n",
       "  </thead>\n",
       "  <tbody>\n",
       "    <tr>\n",
       "      <th>0</th>\n",
       "      <td>512351</td>\n",
       "      <td>512351</td>\n",
       "      <td>512351</td>\n",
       "      <td>512351</td>\n",
       "      <td>512351</td>\n",
       "      <td>512351</td>\n",
       "      <td>512351</td>\n",
       "      <td>512351</td>\n",
       "      <td>512351</td>\n",
       "      <td>512351</td>\n",
       "      <td>...</td>\n",
       "      <td>512351</td>\n",
       "      <td>512351</td>\n",
       "      <td>512351</td>\n",
       "      <td>512351</td>\n",
       "      <td>512351</td>\n",
       "      <td>512351</td>\n",
       "      <td>512351</td>\n",
       "      <td>512351</td>\n",
       "      <td>512351</td>\n",
       "      <td>512351</td>\n",
       "    </tr>\n",
       "    <tr>\n",
       "      <th>1</th>\n",
       "      <td>127649</td>\n",
       "      <td>127649</td>\n",
       "      <td>127649</td>\n",
       "      <td>127649</td>\n",
       "      <td>127649</td>\n",
       "      <td>127649</td>\n",
       "      <td>127649</td>\n",
       "      <td>127649</td>\n",
       "      <td>127649</td>\n",
       "      <td>127649</td>\n",
       "      <td>...</td>\n",
       "      <td>127649</td>\n",
       "      <td>127649</td>\n",
       "      <td>127649</td>\n",
       "      <td>127649</td>\n",
       "      <td>127649</td>\n",
       "      <td>127649</td>\n",
       "      <td>127649</td>\n",
       "      <td>127649</td>\n",
       "      <td>127649</td>\n",
       "      <td>127649</td>\n",
       "    </tr>\n",
       "  </tbody>\n",
       "</table>\n",
       "<p>2 rows × 46 columns</p>\n",
       "</div>"
      ],
      "text/plain": [
       "               id  loanAmnt    term  interestRate  installment   grade  \\\n",
       "isDefault                                                                \n",
       "0          512351    512351  512351        512351       512351  512351   \n",
       "1          127649    127649  127649        127649       127649  127649   \n",
       "\n",
       "           subGrade  employmentTitle  employmentLength  homeOwnership  ...  \\\n",
       "isDefault                                                              ...   \n",
       "0            512351           512351            512351         512351  ...   \n",
       "1            127649           127649            127649         127649  ...   \n",
       "\n",
       "               n5      n6      n7      n8      n9     n10     n11     n12  \\\n",
       "isDefault                                                                   \n",
       "0          512351  512351  512351  512351  512351  512351  512351  512351   \n",
       "1          127649  127649  127649  127649  127649  127649  127649  127649   \n",
       "\n",
       "              n13     n14  \n",
       "isDefault                  \n",
       "0          512351  512351  \n",
       "1          127649  127649  \n",
       "\n",
       "[2 rows x 46 columns]"
      ]
     },
     "execution_count": 5,
     "metadata": {},
     "output_type": "execute_result"
    }
   ],
   "source": [
    "train_data.groupby(\"isDefault\").count()"
   ]
  },
  {
   "cell_type": "code",
   "execution_count": 6,
   "id": "2d5ca670",
   "metadata": {},
   "outputs": [
    {
     "data": {
      "text/html": [
       "<div>\n",
       "<style scoped>\n",
       "    .dataframe tbody tr th:only-of-type {\n",
       "        vertical-align: middle;\n",
       "    }\n",
       "\n",
       "    .dataframe tbody tr th {\n",
       "        vertical-align: top;\n",
       "    }\n",
       "\n",
       "    .dataframe thead th {\n",
       "        text-align: right;\n",
       "    }\n",
       "</style>\n",
       "<table border=\"1\" class=\"dataframe\">\n",
       "  <thead>\n",
       "    <tr style=\"text-align: right;\">\n",
       "      <th></th>\n",
       "      <th>id</th>\n",
       "      <th>loanAmnt</th>\n",
       "      <th>term</th>\n",
       "      <th>interestRate</th>\n",
       "      <th>installment</th>\n",
       "      <th>grade</th>\n",
       "      <th>subGrade</th>\n",
       "      <th>employmentTitle</th>\n",
       "      <th>employmentLength</th>\n",
       "      <th>homeOwnership</th>\n",
       "      <th>...</th>\n",
       "      <th>n5</th>\n",
       "      <th>n6</th>\n",
       "      <th>n7</th>\n",
       "      <th>n8</th>\n",
       "      <th>n9</th>\n",
       "      <th>n10</th>\n",
       "      <th>n11</th>\n",
       "      <th>n12</th>\n",
       "      <th>n13</th>\n",
       "      <th>n14</th>\n",
       "    </tr>\n",
       "    <tr>\n",
       "      <th>isDefault</th>\n",
       "      <th></th>\n",
       "      <th></th>\n",
       "      <th></th>\n",
       "      <th></th>\n",
       "      <th></th>\n",
       "      <th></th>\n",
       "      <th></th>\n",
       "      <th></th>\n",
       "      <th></th>\n",
       "      <th></th>\n",
       "      <th></th>\n",
       "      <th></th>\n",
       "      <th></th>\n",
       "      <th></th>\n",
       "      <th></th>\n",
       "      <th></th>\n",
       "      <th></th>\n",
       "      <th></th>\n",
       "      <th></th>\n",
       "      <th></th>\n",
       "      <th></th>\n",
       "    </tr>\n",
       "  </thead>\n",
       "  <tbody>\n",
       "    <tr>\n",
       "      <th>0</th>\n",
       "      <td>128039</td>\n",
       "      <td>128039</td>\n",
       "      <td>128039</td>\n",
       "      <td>128039</td>\n",
       "      <td>128039</td>\n",
       "      <td>128039</td>\n",
       "      <td>128039</td>\n",
       "      <td>128039</td>\n",
       "      <td>128039</td>\n",
       "      <td>128039</td>\n",
       "      <td>...</td>\n",
       "      <td>128039</td>\n",
       "      <td>128039</td>\n",
       "      <td>128039</td>\n",
       "      <td>128039</td>\n",
       "      <td>128039</td>\n",
       "      <td>128039</td>\n",
       "      <td>128039</td>\n",
       "      <td>128039</td>\n",
       "      <td>128039</td>\n",
       "      <td>128039</td>\n",
       "    </tr>\n",
       "    <tr>\n",
       "      <th>1</th>\n",
       "      <td>31961</td>\n",
       "      <td>31961</td>\n",
       "      <td>31961</td>\n",
       "      <td>31961</td>\n",
       "      <td>31961</td>\n",
       "      <td>31961</td>\n",
       "      <td>31961</td>\n",
       "      <td>31961</td>\n",
       "      <td>31961</td>\n",
       "      <td>31961</td>\n",
       "      <td>...</td>\n",
       "      <td>31961</td>\n",
       "      <td>31961</td>\n",
       "      <td>31961</td>\n",
       "      <td>31961</td>\n",
       "      <td>31961</td>\n",
       "      <td>31961</td>\n",
       "      <td>31961</td>\n",
       "      <td>31961</td>\n",
       "      <td>31961</td>\n",
       "      <td>31961</td>\n",
       "    </tr>\n",
       "  </tbody>\n",
       "</table>\n",
       "<p>2 rows × 46 columns</p>\n",
       "</div>"
      ],
      "text/plain": [
       "               id  loanAmnt    term  interestRate  installment   grade  \\\n",
       "isDefault                                                                \n",
       "0          128039    128039  128039        128039       128039  128039   \n",
       "1           31961     31961   31961         31961        31961   31961   \n",
       "\n",
       "           subGrade  employmentTitle  employmentLength  homeOwnership  ...  \\\n",
       "isDefault                                                              ...   \n",
       "0            128039           128039            128039         128039  ...   \n",
       "1             31961            31961             31961          31961  ...   \n",
       "\n",
       "               n5      n6      n7      n8      n9     n10     n11     n12  \\\n",
       "isDefault                                                                   \n",
       "0          128039  128039  128039  128039  128039  128039  128039  128039   \n",
       "1           31961   31961   31961   31961   31961   31961   31961   31961   \n",
       "\n",
       "              n13     n14  \n",
       "isDefault                  \n",
       "0          128039  128039  \n",
       "1           31961   31961  \n",
       "\n",
       "[2 rows x 46 columns]"
      ]
     },
     "execution_count": 6,
     "metadata": {},
     "output_type": "execute_result"
    }
   ],
   "source": [
    "test_data.groupby(\"isDefault\").count()"
   ]
  },
  {
   "cell_type": "code",
   "execution_count": 7,
   "id": "f419fdac",
   "metadata": {},
   "outputs": [],
   "source": [
    "#将特征与标签从数据集中剥离出来\n",
    "train_features = train_data.drop(columns = [\"isDefault\"]).copy()\n",
    "train_target = train_data[[\"isDefault\"]].copy()\n",
    "\n",
    "test_features = test_data.drop(columns = [\"isDefault\"]).copy()\n",
    "test_target = test_data[[\"isDefault\"]].copy()\n"
   ]
  },
  {
   "cell_type": "markdown",
   "id": "31dcd2f0",
   "metadata": {},
   "source": [
    "# 决策树\n",
    "\n",
    "\n",
    "确定决策树的核心参数以及参数范围"
   ]
  },
  {
   "cell_type": "code",
   "execution_count": 46,
   "id": "cf12ef3f",
   "metadata": {},
   "outputs": [],
   "source": [
    "#算力有限，此处跨度设定很粗\n",
    "max_depth = [i for i in range(5,11,2)] \n",
    "min_samples_split = [i for i in range(2,100,20)] \n",
    "min_samples_leaf = [i for i in range(1,50,10)] \n",
    "max_features = [i/10 for i in range(1,10,2)] \n",
    "criterion = [\"gini\",\"entropy\"]\n",
    "max_leaf_nodes = [100,500,50]\n",
    "class_weight = [{0:1,1:1},{0:2,1:1},{0:3,1:1},{0:4,1:1}]"
   ]
  },
  {
   "cell_type": "markdown",
   "id": "60bbecd5",
   "metadata": {},
   "source": [
    "将参数设定为网格搜索可使用的字典形式，因排列组合过多，可分批次进行搜索探索"
   ]
  },
  {
   "cell_type": "code",
   "execution_count": 47,
   "id": "1bdc9d71",
   "metadata": {},
   "outputs": [],
   "source": [
    "params_state1 = {\"max_depth\":max_depth,\"min_samples_split\":min_samples_split,\"min_samples_leaf\":min_samples_leaf}\n",
    "params_state2 = {\"max_features\":max_features,\"criterion\":criterion,\"max_leaf_nodes\":max_leaf_nodes}\n",
    "params_state3 = {\"class_weight\":class_weight}"
   ]
  },
  {
   "cell_type": "code",
   "execution_count": null,
   "id": "d36e5366",
   "metadata": {},
   "outputs": [],
   "source": [
    "best_params = {}\n",
    "clf_dt = tree.DecisionTreeClassifier()\n",
    "for each in [params_state1,params_state2,params_state3]:\n",
    "    clf_dt_mid = GridSearchCV(estimator=clf_dt, param_grid=each, scoring='roc_auc', cv=5,verbose=2)\n",
    "    clf_dt_mid.fit(train_features,train_target)\n",
    "    best_params.update(clf_dt_mid.best_params_)\n",
    "    clf_dt = tree.DecisionTreeClassifier(**best_params)\n",
    "#模型训练\n",
    "clf_dt.fit(train_features,train_target)"
   ]
  },
  {
   "cell_type": "code",
   "execution_count": 52,
   "id": "cef8ae9a",
   "metadata": {},
   "outputs": [
    {
     "data": {
      "text/plain": [
       "{'ccp_alpha': 0.0,\n",
       " 'class_weight': {0: 1, 1: 1},\n",
       " 'criterion': 'entropy',\n",
       " 'max_depth': 9,\n",
       " 'max_features': 0.9,\n",
       " 'max_leaf_nodes': 100,\n",
       " 'min_impurity_decrease': 0.0,\n",
       " 'min_samples_leaf': 1,\n",
       " 'min_samples_split': 62,\n",
       " 'min_weight_fraction_leaf': 0.0,\n",
       " 'random_state': None,\n",
       " 'splitter': 'best'}"
      ]
     },
     "execution_count": 52,
     "metadata": {},
     "output_type": "execute_result"
    }
   ],
   "source": [
    "#打印模型最优的参数与分数\n",
    "# print(clf_dt.best_params_)\n",
    "# print(clf_dt.best_score_)\n",
    "clf_dt.get_params()"
   ]
  },
  {
   "cell_type": "code",
   "execution_count": 53,
   "id": "2d19e1ae",
   "metadata": {},
   "outputs": [
    {
     "name": "stdout",
     "output_type": "stream",
     "text": [
      "决策树模型最终在测试集上的auc为： 0.7092574311774612\n"
     ]
    }
   ],
   "source": [
    "#输出模型最终在测试集上的表现\n",
    "clf_dt_auc = auc_score_fig(clf_dt,test_features,test_target)\n",
    "print(\"决策树模型最终在测试集上的auc为：\",clf_dt_auc)"
   ]
  },
  {
   "cell_type": "code",
   "execution_count": 54,
   "id": "18438775",
   "metadata": {},
   "outputs": [
    {
     "data": {
      "text/plain": [
       "['C:\\\\Users\\\\17738\\\\贷款违约率预测\\\\模型存储\\\\决策树_风控模型.pkl']"
      ]
     },
     "execution_count": 54,
     "metadata": {},
     "output_type": "execute_result"
    }
   ],
   "source": [
    "#模型保存\n",
    "joblib.dump(clf_dt, r'C:\\Users\\17738\\贷款违约率预测\\模型存储\\决策树_风控模型.pkl')"
   ]
  },
  {
   "cell_type": "markdown",
   "id": "6b2d74bb",
   "metadata": {},
   "source": [
    "# 随机森林"
   ]
  },
  {
   "cell_type": "code",
   "execution_count": 27,
   "id": "0a0bb1db",
   "metadata": {},
   "outputs": [],
   "source": [
    "#算力有限，此处跨度设定很粗\n",
    "n_estimators =[i for i in range(100,500,200)]\n",
    "max_depth = [i for i in range(10,100,40)] \n",
    "min_samples_split = [i for i in range(2,20,8)] \n",
    "min_samples_leaf = [i for i in range(1,10,3)] \n",
    "max_features = [i/10 for i in range(5,10,2)] "
   ]
  },
  {
   "cell_type": "code",
   "execution_count": 28,
   "id": "1eac4ef3",
   "metadata": {},
   "outputs": [],
   "source": [
    "params_state1 = {\"n_estimators\":n_estimators,\"max_depth\":max_depth}\n",
    "params_state2 = {\"min_samples_split\":min_samples_split,\"min_samples_leaf\":min_samples_leaf}\n",
    "params_state3 = {\"max_features\":max_features}"
   ]
  },
  {
   "cell_type": "code",
   "execution_count": null,
   "id": "bf4e531d",
   "metadata": {},
   "outputs": [],
   "source": [
    "best_params = {}\n",
    "clf_rf = RandomForestClassifier()\n",
    "for each in [params_state1,params_state2,params_state3]:\n",
    "    clf_rf_mid = GridSearchCV(estimator=clf_rf, param_grid=each, scoring='roc_auc', cv=5,verbose=2)\n",
    "    clf_rf_mid.fit(train_features,train_target)\n",
    "    best_params.update(clf_rf_mid.best_params_)\n",
    "    clf_rf = RandomForestClassifier(**best_params)"
   ]
  },
  {
   "cell_type": "code",
   "execution_count": 33,
   "id": "9a835d34",
   "metadata": {},
   "outputs": [
    {
     "name": "stderr",
     "output_type": "stream",
     "text": [
      "C:\\Users\\17738\\AppData\\Local\\Temp\\ipykernel_1156\\3978671840.py:3: DataConversionWarning: A column-vector y was passed when a 1d array was expected. Please change the shape of y to (n_samples,), for example using ravel().\n",
      "  clf_rf.fit(train_features,train_target)\n"
     ]
    },
    {
     "data": {
      "text/plain": [
       "RandomForestClassifier(max_depth=10, n_estimators=300)"
      ]
     },
     "execution_count": 33,
     "metadata": {},
     "output_type": "execute_result"
    }
   ],
   "source": [
    "#模型训练\n",
    "clf_rf = RandomForestClassifier(max_depth = 10, n_estimators = 300)  #算力有限，此处仅调整部分参数\n",
    "clf_rf.fit(train_features,train_target)"
   ]
  },
  {
   "cell_type": "code",
   "execution_count": 34,
   "id": "24f5fcf8",
   "metadata": {},
   "outputs": [
    {
     "data": {
      "text/plain": [
       "{'bootstrap': True,\n",
       " 'ccp_alpha': 0.0,\n",
       " 'class_weight': None,\n",
       " 'criterion': 'gini',\n",
       " 'max_depth': 10,\n",
       " 'max_features': 'auto',\n",
       " 'max_leaf_nodes': None,\n",
       " 'max_samples': None,\n",
       " 'min_impurity_decrease': 0.0,\n",
       " 'min_samples_leaf': 1,\n",
       " 'min_samples_split': 2,\n",
       " 'min_weight_fraction_leaf': 0.0,\n",
       " 'n_estimators': 300,\n",
       " 'n_jobs': None,\n",
       " 'oob_score': False,\n",
       " 'random_state': None,\n",
       " 'verbose': 0,\n",
       " 'warm_start': False}"
      ]
     },
     "execution_count": 34,
     "metadata": {},
     "output_type": "execute_result"
    }
   ],
   "source": [
    "clf_rf.get_params()"
   ]
  },
  {
   "cell_type": "code",
   "execution_count": 35,
   "id": "11ca7497",
   "metadata": {},
   "outputs": [
    {
     "name": "stdout",
     "output_type": "stream",
     "text": [
      "决策树模型最终在测试集上的auc为： 0.7183534799913893\n"
     ]
    }
   ],
   "source": [
    "#输出模型最终在测试集上的表现\n",
    "clf_rf_auc = auc_score_fig(clf_rf,test_features,test_target)\n",
    "print(\"随机森林模型最终在测试集上的auc为：\",clf_rf_auc)"
   ]
  },
  {
   "cell_type": "code",
   "execution_count": 36,
   "id": "1ddf0c00",
   "metadata": {},
   "outputs": [
    {
     "data": {
      "text/plain": [
       "['C:\\\\Users\\\\17738\\\\贷款违约率预测\\\\模型存储\\\\随机森林_风控模型.pkl']"
      ]
     },
     "execution_count": 36,
     "metadata": {},
     "output_type": "execute_result"
    }
   ],
   "source": [
    "#模型保存\n",
    "joblib.dump(clf_rf, r'C:\\Users\\17738\\贷款违约率预测\\模型存储\\随机森林_风控模型.pkl')"
   ]
  },
  {
   "cell_type": "markdown",
   "id": "d8dcbae1",
   "metadata": {},
   "source": [
    "# XGBOOST"
   ]
  },
  {
   "cell_type": "code",
   "execution_count": 37,
   "id": "a6eeff61",
   "metadata": {},
   "outputs": [],
   "source": [
    "#算力有限，此处跨度设定很粗\n",
    "n_estimators_list=[i for i in range(1,121,40)]   \n",
    "learning_rate_list=[i/100 for i in range(1,42,5)]  \n",
    "max_depth_list=[i for i in range(3,11,4)]\n",
    "max_delta_step_list=[i for i in range(1,11,4)]  \n",
    "min_child_weight_list=[i for i in range(1,13,4)]\n",
    "gamma_list=[i/10 for i in range(1,11,4)]\n",
    "subsample_list=[i/10 for i in range(5,11,4)]\n",
    "colsample_bytree_list=[i/10 for i in range(5,11,4)]\n",
    "scale_pos_weight_list=[i/10 for i in range(5,42,15)]   \n",
    "reg_alpha_list=[0, 0.001, 0.005, 0.01,0.05, 0.1, 1, 2, 3]\n",
    "reg_lambda_list=[0, 0.001, 0.005, 0.01,0.05, 0.1, 1, 2, 3]"
   ]
  },
  {
   "cell_type": "code",
   "execution_count": 38,
   "id": "e319d7e2",
   "metadata": {},
   "outputs": [],
   "source": [
    "params_state1 = {'n_estimators': n_estimators_list,'learning_rate':learning_rate_list,'objective':['binary:logistic']}\n",
    "params_state2 = {'scale_pos_weight': scale_pos_weight_list,'max_delta_step':max_delta_step_list}\n",
    "params_state3 = {'max_depth':max_depth_list,'min_child_weight':min_child_weight_list,'gamma':gamma_list}\n",
    "params_state4 = {'subsample':subsample_list,'colsample_bytree':colsample_bytree_list}\n",
    "params_state5 = {'reg_alpha':reg_alpha_list,'reg_lambda':reg_lambda_list}"
   ]
  },
  {
   "cell_type": "code",
   "execution_count": null,
   "id": "1461c668",
   "metadata": {},
   "outputs": [],
   "source": [
    "best_params = {}\n",
    "clf_xgb = XGBClassifier()\n",
    "for each in [params_state1,params_state2,params_state3]:\n",
    "    clf_xgb_mid = GridSearchCV(estimator=clf_xgb, param_grid=each, scoring='roc_auc', cv=5,verbose=2)\n",
    "    clf_xgb_mid.fit(train_features,train_target)\n",
    "    best_params.update(clf_xgb_mid.best_params_)\n",
    "    clf_xgb = XGBClassifier(**best_params)\n",
    "#模型训练\n",
    "clf_xgb.fit(train_features,train_target)"
   ]
  },
  {
   "cell_type": "code",
   "execution_count": 42,
   "id": "20058355",
   "metadata": {},
   "outputs": [
    {
     "data": {
      "text/plain": [
       "XGBClassifier(base_score=None, booster=None, callbacks=None,\n",
       "              colsample_bylevel=None, colsample_bynode=None,\n",
       "              colsample_bytree=None, device=None, early_stopping_rounds=None,\n",
       "              enable_categorical=False, eval_metric=None, feature_types=None,\n",
       "              gamma=None, grow_policy=None, importance_type=None,\n",
       "              interaction_constraints=None, learning_rate=None, max_bin=None,\n",
       "              max_cat_threshold=None, max_cat_to_onehot=None,\n",
       "              max_delta_step=None, max_depth=None, max_leaves=None,\n",
       "              min_child_weight=None, missing=nan, monotone_constraints=None,\n",
       "              multi_strategy=None, n_estimators=None, n_jobs=None,\n",
       "              num_parallel_tree=None, random_state=None, ...)"
      ]
     },
     "execution_count": 42,
     "metadata": {},
     "output_type": "execute_result"
    }
   ],
   "source": [
    "#模型训练\n",
    "clf_xgb = XGBClassifier()  #算力有限，此处仅展示调参代码，仍使用默认参数作为最终结果\n",
    "clf_xgb.fit(train_features,train_target)"
   ]
  },
  {
   "cell_type": "code",
   "execution_count": 43,
   "id": "99ea796b",
   "metadata": {},
   "outputs": [
    {
     "data": {
      "text/plain": [
       "{'objective': 'binary:logistic',\n",
       " 'base_score': None,\n",
       " 'booster': None,\n",
       " 'callbacks': None,\n",
       " 'colsample_bylevel': None,\n",
       " 'colsample_bynode': None,\n",
       " 'colsample_bytree': None,\n",
       " 'device': None,\n",
       " 'early_stopping_rounds': None,\n",
       " 'enable_categorical': False,\n",
       " 'eval_metric': None,\n",
       " 'feature_types': None,\n",
       " 'gamma': None,\n",
       " 'grow_policy': None,\n",
       " 'importance_type': None,\n",
       " 'interaction_constraints': None,\n",
       " 'learning_rate': None,\n",
       " 'max_bin': None,\n",
       " 'max_cat_threshold': None,\n",
       " 'max_cat_to_onehot': None,\n",
       " 'max_delta_step': None,\n",
       " 'max_depth': None,\n",
       " 'max_leaves': None,\n",
       " 'min_child_weight': None,\n",
       " 'missing': nan,\n",
       " 'monotone_constraints': None,\n",
       " 'multi_strategy': None,\n",
       " 'n_estimators': None,\n",
       " 'n_jobs': None,\n",
       " 'num_parallel_tree': None,\n",
       " 'random_state': None,\n",
       " 'reg_alpha': None,\n",
       " 'reg_lambda': None,\n",
       " 'sampling_method': None,\n",
       " 'scale_pos_weight': None,\n",
       " 'subsample': None,\n",
       " 'tree_method': None,\n",
       " 'validate_parameters': None,\n",
       " 'verbosity': None}"
      ]
     },
     "execution_count": 43,
     "metadata": {},
     "output_type": "execute_result"
    }
   ],
   "source": [
    "clf_xgb.get_params()"
   ]
  },
  {
   "cell_type": "code",
   "execution_count": 44,
   "id": "ca56d18f",
   "metadata": {},
   "outputs": [
    {
     "name": "stdout",
     "output_type": "stream",
     "text": [
      "XGB模型最终在测试集上的auc为： 0.7338299478711378\n"
     ]
    }
   ],
   "source": [
    "#输出模型最终在测试集上的表现\n",
    "clf_xgb_auc = auc_score_fig(clf_xgb,test_features,test_target)\n",
    "print(\"XGB模型最终在测试集上的auc为：\",clf_xgb_auc)"
   ]
  },
  {
   "cell_type": "code",
   "execution_count": 45,
   "id": "e1c9461a",
   "metadata": {},
   "outputs": [
    {
     "data": {
      "text/plain": [
       "['C:\\\\Users\\\\17738\\\\贷款违约率预测\\\\模型存储\\\\随XGB_风控模型.pkl']"
      ]
     },
     "execution_count": 45,
     "metadata": {},
     "output_type": "execute_result"
    }
   ],
   "source": [
    "#模型保存\n",
    "joblib.dump(clf_xgb, r'C:\\Users\\17738\\贷款违约率预测\\模型存储\\随XGB_风控模型.pkl')"
   ]
  },
  {
   "cell_type": "markdown",
   "id": "16cd21c9",
   "metadata": {},
   "source": [
    "# 项目代码仅为展现本人在数据挖掘方面的技能。因时间与算力有限，当前内容仅完成模型搭建的核心环节，后期会逐步完善以下内容：\n",
    "\n",
    "# 1.特征衍生：\n",
    "\n",
    "    时序特征衍生：依据生活规律对时序特征进行拓展衍生\n",
    "    \n",
    "    特征交叉衍生：将相关特征利用常用统计函数/线性组合等方式进行交叉组合衍生；\n",
    "    \n",
    "    经验衍生：依据业务经验，重新构造一些可解释行的特征；\n",
    "    \n",
    "    \n",
    "# 2.调参优化：\n",
    "\n",
    "    尝试使用随机调参与贝叶斯调参进行参数组合的探索；\n",
    "    \n",
    "# 3.模型融合：\n",
    "\n",
    "    尝试使用平均法与投票法进行模型融合；\n",
    "    \n",
    "# 4.AB测试模块编写：\n",
    "\n",
    "    编写小样本检验逻辑，测试不同模型的实际执行效果；"
   ]
  }
 ],
 "metadata": {
  "kernelspec": {
   "display_name": "Python 3 (ipykernel)",
   "language": "python",
   "name": "python3"
  },
  "language_info": {
   "codemirror_mode": {
    "name": "ipython",
    "version": 3
   },
   "file_extension": ".py",
   "mimetype": "text/x-python",
   "name": "python",
   "nbconvert_exporter": "python",
   "pygments_lexer": "ipython3",
   "version": "3.9.12"
  }
 },
 "nbformat": 4,
 "nbformat_minor": 5
}
