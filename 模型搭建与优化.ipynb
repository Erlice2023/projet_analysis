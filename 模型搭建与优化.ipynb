{
 "cells": [
  {
   "cell_type": "markdown",
   "id": "25b217fa",
   "metadata": {},
   "source": [
    "# 基于模型泛化效果、可解释性考虑，初定选定以下三种模型框架进行尝试\n",
    "\n",
    "## 1.具有强解释性的决策树模型\n",
    "\n",
    "## 2.以bagging思想进行集成集成的随机森林模型\n",
    "\n",
    "## 3.以boosting思想进行集成的xgb模型"
   ]
  },
  {
   "cell_type": "code",
   "execution_count": 1,
   "id": "d37b8f6d",
   "metadata": {},
   "outputs": [],
   "source": [
    "import pandas as pd\n",
    "from sklearn.model_selection import train_test_split\n",
    "from sklearn.ensemble import RandomForestClassifier\n",
    "from sklearn import tree  \n",
    "import xgboost as xgb\n",
    "from sklearn.model_selection import GridSearchCV \n",
    "from sklearn.metrics import roc_auc_score\n",
    "import joblib"
   ]
  },
  {
   "cell_type": "code",
   "execution_count": 2,
   "id": "6dd319e7",
   "metadata": {},
   "outputs": [],
   "source": [
    "def auc_score_fig(clf,x,y_test):  #计算auc，三参数分别为分类器，特征与标签\n",
    "    y_probs = clf.predict_proba(x)\n",
    "    y_probs = y_probs[:,1]\n",
    "    auc = roc_auc_score(y_test, y_probs)\n",
    "    return auc"
   ]
  },
  {
   "cell_type": "code",
   "execution_count": 3,
   "id": "2ec23a0e",
   "metadata": {},
   "outputs": [],
   "source": [
    "#读取数据\n",
    "df_train = pd.read_csv(r\"C:\\Users\\17738\\贷款违约率预测\\数据集\\train_clean.csv\")\n",
    "df_test = pd.read_csv(r\"C:\\Users\\17738\\贷款违约率预测\\数据集\\test_clean.csv\")"
   ]
  },
  {
   "cell_type": "markdown",
   "id": "5735812d",
   "metadata": {},
   "source": [
    "在训练数据中单独划分一个测试集用来评估模型的泛化效果"
   ]
  },
  {
   "cell_type": "code",
   "execution_count": 4,
   "id": "2beb0146",
   "metadata": {},
   "outputs": [],
   "source": [
    "train_data, test_data = train_test_split(df_train, test_size=0.2, random_state=1)   "
   ]
  },
  {
   "cell_type": "code",
   "execution_count": 5,
   "id": "0f2f0eed",
   "metadata": {},
   "outputs": [
    {
     "data": {
      "text/html": [
       "<div>\n",
       "<style scoped>\n",
       "    .dataframe tbody tr th:only-of-type {\n",
       "        vertical-align: middle;\n",
       "    }\n",
       "\n",
       "    .dataframe tbody tr th {\n",
       "        vertical-align: top;\n",
       "    }\n",
       "\n",
       "    .dataframe thead th {\n",
       "        text-align: right;\n",
       "    }\n",
       "</style>\n",
       "<table border=\"1\" class=\"dataframe\">\n",
       "  <thead>\n",
       "    <tr style=\"text-align: right;\">\n",
       "      <th></th>\n",
       "      <th>id</th>\n",
       "      <th>loanAmnt</th>\n",
       "      <th>term</th>\n",
       "      <th>interestRate</th>\n",
       "      <th>installment</th>\n",
       "      <th>grade</th>\n",
       "      <th>subGrade</th>\n",
       "      <th>employmentTitle</th>\n",
       "      <th>employmentLength</th>\n",
       "      <th>homeOwnership</th>\n",
       "      <th>...</th>\n",
       "      <th>n5</th>\n",
       "      <th>n6</th>\n",
       "      <th>n7</th>\n",
       "      <th>n8</th>\n",
       "      <th>n9</th>\n",
       "      <th>n10</th>\n",
       "      <th>n11</th>\n",
       "      <th>n12</th>\n",
       "      <th>n13</th>\n",
       "      <th>n14</th>\n",
       "    </tr>\n",
       "    <tr>\n",
       "      <th>isDefault</th>\n",
       "      <th></th>\n",
       "      <th></th>\n",
       "      <th></th>\n",
       "      <th></th>\n",
       "      <th></th>\n",
       "      <th></th>\n",
       "      <th></th>\n",
       "      <th></th>\n",
       "      <th></th>\n",
       "      <th></th>\n",
       "      <th></th>\n",
       "      <th></th>\n",
       "      <th></th>\n",
       "      <th></th>\n",
       "      <th></th>\n",
       "      <th></th>\n",
       "      <th></th>\n",
       "      <th></th>\n",
       "      <th></th>\n",
       "      <th></th>\n",
       "      <th></th>\n",
       "    </tr>\n",
       "  </thead>\n",
       "  <tbody>\n",
       "    <tr>\n",
       "      <th>0</th>\n",
       "      <td>512351</td>\n",
       "      <td>512351</td>\n",
       "      <td>512351</td>\n",
       "      <td>512351</td>\n",
       "      <td>512351</td>\n",
       "      <td>512351</td>\n",
       "      <td>512351</td>\n",
       "      <td>512351</td>\n",
       "      <td>512351</td>\n",
       "      <td>512351</td>\n",
       "      <td>...</td>\n",
       "      <td>512351</td>\n",
       "      <td>512351</td>\n",
       "      <td>512351</td>\n",
       "      <td>512351</td>\n",
       "      <td>512351</td>\n",
       "      <td>512351</td>\n",
       "      <td>512351</td>\n",
       "      <td>512351</td>\n",
       "      <td>512351</td>\n",
       "      <td>512351</td>\n",
       "    </tr>\n",
       "    <tr>\n",
       "      <th>1</th>\n",
       "      <td>127649</td>\n",
       "      <td>127649</td>\n",
       "      <td>127649</td>\n",
       "      <td>127649</td>\n",
       "      <td>127649</td>\n",
       "      <td>127649</td>\n",
       "      <td>127649</td>\n",
       "      <td>127649</td>\n",
       "      <td>127649</td>\n",
       "      <td>127649</td>\n",
       "      <td>...</td>\n",
       "      <td>127649</td>\n",
       "      <td>127649</td>\n",
       "      <td>127649</td>\n",
       "      <td>127649</td>\n",
       "      <td>127649</td>\n",
       "      <td>127649</td>\n",
       "      <td>127649</td>\n",
       "      <td>127649</td>\n",
       "      <td>127649</td>\n",
       "      <td>127649</td>\n",
       "    </tr>\n",
       "  </tbody>\n",
       "</table>\n",
       "<p>2 rows × 46 columns</p>\n",
       "</div>"
      ],
      "text/plain": [
       "               id  loanAmnt    term  interestRate  installment   grade  \\\n",
       "isDefault                                                                \n",
       "0          512351    512351  512351        512351       512351  512351   \n",
       "1          127649    127649  127649        127649       127649  127649   \n",
       "\n",
       "           subGrade  employmentTitle  employmentLength  homeOwnership  ...  \\\n",
       "isDefault                                                              ...   \n",
       "0            512351           512351            512351         512351  ...   \n",
       "1            127649           127649            127649         127649  ...   \n",
       "\n",
       "               n5      n6      n7      n8      n9     n10     n11     n12  \\\n",
       "isDefault                                                                   \n",
       "0          512351  512351  512351  512351  512351  512351  512351  512351   \n",
       "1          127649  127649  127649  127649  127649  127649  127649  127649   \n",
       "\n",
       "              n13     n14  \n",
       "isDefault                  \n",
       "0          512351  512351  \n",
       "1          127649  127649  \n",
       "\n",
       "[2 rows x 46 columns]"
      ]
     },
     "execution_count": 5,
     "metadata": {},
     "output_type": "execute_result"
    }
   ],
   "source": [
    "train_data.groupby(\"isDefault\").count()"
   ]
  },
  {
   "cell_type": "code",
   "execution_count": 6,
   "id": "2d5ca670",
   "metadata": {},
   "outputs": [
    {
     "data": {
      "text/html": [
       "<div>\n",
       "<style scoped>\n",
       "    .dataframe tbody tr th:only-of-type {\n",
       "        vertical-align: middle;\n",
       "    }\n",
       "\n",
       "    .dataframe tbody tr th {\n",
       "        vertical-align: top;\n",
       "    }\n",
       "\n",
       "    .dataframe thead th {\n",
       "        text-align: right;\n",
       "    }\n",
       "</style>\n",
       "<table border=\"1\" class=\"dataframe\">\n",
       "  <thead>\n",
       "    <tr style=\"text-align: right;\">\n",
       "      <th></th>\n",
       "      <th>id</th>\n",
       "      <th>loanAmnt</th>\n",
       "      <th>term</th>\n",
       "      <th>interestRate</th>\n",
       "      <th>installment</th>\n",
       "      <th>grade</th>\n",
       "      <th>subGrade</th>\n",
       "      <th>employmentTitle</th>\n",
       "      <th>employmentLength</th>\n",
       "      <th>homeOwnership</th>\n",
       "      <th>...</th>\n",
       "      <th>n5</th>\n",
       "      <th>n6</th>\n",
       "      <th>n7</th>\n",
       "      <th>n8</th>\n",
       "      <th>n9</th>\n",
       "      <th>n10</th>\n",
       "      <th>n11</th>\n",
       "      <th>n12</th>\n",
       "      <th>n13</th>\n",
       "      <th>n14</th>\n",
       "    </tr>\n",
       "    <tr>\n",
       "      <th>isDefault</th>\n",
       "      <th></th>\n",
       "      <th></th>\n",
       "      <th></th>\n",
       "      <th></th>\n",
       "      <th></th>\n",
       "      <th></th>\n",
       "      <th></th>\n",
       "      <th></th>\n",
       "      <th></th>\n",
       "      <th></th>\n",
       "      <th></th>\n",
       "      <th></th>\n",
       "      <th></th>\n",
       "      <th></th>\n",
       "      <th></th>\n",
       "      <th></th>\n",
       "      <th></th>\n",
       "      <th></th>\n",
       "      <th></th>\n",
       "      <th></th>\n",
       "      <th></th>\n",
       "    </tr>\n",
       "  </thead>\n",
       "  <tbody>\n",
       "    <tr>\n",
       "      <th>0</th>\n",
       "      <td>128039</td>\n",
       "      <td>128039</td>\n",
       "      <td>128039</td>\n",
       "      <td>128039</td>\n",
       "      <td>128039</td>\n",
       "      <td>128039</td>\n",
       "      <td>128039</td>\n",
       "      <td>128039</td>\n",
       "      <td>128039</td>\n",
       "      <td>128039</td>\n",
       "      <td>...</td>\n",
       "      <td>128039</td>\n",
       "      <td>128039</td>\n",
       "      <td>128039</td>\n",
       "      <td>128039</td>\n",
       "      <td>128039</td>\n",
       "      <td>128039</td>\n",
       "      <td>128039</td>\n",
       "      <td>128039</td>\n",
       "      <td>128039</td>\n",
       "      <td>128039</td>\n",
       "    </tr>\n",
       "    <tr>\n",
       "      <th>1</th>\n",
       "      <td>31961</td>\n",
       "      <td>31961</td>\n",
       "      <td>31961</td>\n",
       "      <td>31961</td>\n",
       "      <td>31961</td>\n",
       "      <td>31961</td>\n",
       "      <td>31961</td>\n",
       "      <td>31961</td>\n",
       "      <td>31961</td>\n",
       "      <td>31961</td>\n",
       "      <td>...</td>\n",
       "      <td>31961</td>\n",
       "      <td>31961</td>\n",
       "      <td>31961</td>\n",
       "      <td>31961</td>\n",
       "      <td>31961</td>\n",
       "      <td>31961</td>\n",
       "      <td>31961</td>\n",
       "      <td>31961</td>\n",
       "      <td>31961</td>\n",
       "      <td>31961</td>\n",
       "    </tr>\n",
       "  </tbody>\n",
       "</table>\n",
       "<p>2 rows × 46 columns</p>\n",
       "</div>"
      ],
      "text/plain": [
       "               id  loanAmnt    term  interestRate  installment   grade  \\\n",
       "isDefault                                                                \n",
       "0          128039    128039  128039        128039       128039  128039   \n",
       "1           31961     31961   31961         31961        31961   31961   \n",
       "\n",
       "           subGrade  employmentTitle  employmentLength  homeOwnership  ...  \\\n",
       "isDefault                                                              ...   \n",
       "0            128039           128039            128039         128039  ...   \n",
       "1             31961            31961             31961          31961  ...   \n",
       "\n",
       "               n5      n6      n7      n8      n9     n10     n11     n12  \\\n",
       "isDefault                                                                   \n",
       "0          128039  128039  128039  128039  128039  128039  128039  128039   \n",
       "1           31961   31961   31961   31961   31961   31961   31961   31961   \n",
       "\n",
       "              n13     n14  \n",
       "isDefault                  \n",
       "0          128039  128039  \n",
       "1           31961   31961  \n",
       "\n",
       "[2 rows x 46 columns]"
      ]
     },
     "execution_count": 6,
     "metadata": {},
     "output_type": "execute_result"
    }
   ],
   "source": [
    "test_data.groupby(\"isDefault\").count()"
   ]
  },
  {
   "cell_type": "code",
   "execution_count": 7,
   "id": "f419fdac",
   "metadata": {},
   "outputs": [],
   "source": [
    "#将特征与标签从数据集中剥离出来\n",
    "train_features = train_data.drop(columns = [\"isDefault\"]).copy()\n",
    "train_target = train_data[[\"isDefault\"]].copy()\n",
    "\n",
    "test_features = test_data.drop(columns = [\"isDefault\"]).copy()\n",
    "test_target = test_data[[\"isDefault\"]].copy()\n"
   ]
  },
  {
   "cell_type": "code",
   "execution_count": 8,
   "id": "4e01c9a9",
   "metadata": {},
   "outputs": [],
   "source": [
    "# max_depth:决策树最大深度。初步可以取5-10,搜索范围一般为3-15。太小会欠拟合,太大会过拟合。\n",
    "# min_samples_split:分割节点时最小样本数。初步取2,搜索范围一般为2-100。太小容易过拟合,太大学习不足。\n",
    "# min_samples_leaf:叶子节点最小样本数。初步取1,搜索范围1-50。原理同上。\n",
    "# max_features:分割时考虑的最大特征数。对于分类一般取sqrt(n_features),搜索范围可以取0.5-1.0倍的特征数。\n",
    "# criterion:特征选择准则,gini或entropy,二者效果相近。\n",
    "# max_leaf_nodes:最大叶子节点数,一般不需要限制,可以搜索100-500个节点数的范围。\n",
    "# min_impurity_decrease:提前停止划分的纯度增益阈值,默认不需要调整。\n",
    "# class_weight:类别权重,如果类别不均衡可以尝试平衡一下权重。"
   ]
  },
  {
   "cell_type": "markdown",
   "id": "31dcd2f0",
   "metadata": {},
   "source": [
    "# 决策树\n",
    "\n",
    "\n",
    "确定决策树的核心参数以及参数范围"
   ]
  },
  {
   "cell_type": "code",
   "execution_count": 9,
   "id": "cf12ef3f",
   "metadata": {},
   "outputs": [],
   "source": [
    "max_depth = [i for i in range(5,11,2)] \n",
    "min_samples_split = [i for i in range(2,100,20)] \n",
    "min_samples_leaf = [i for i in range(1,50,10)] \n",
    "max_features = [i/10 for i in range(1,10,2)] \n",
    "criterion = [\"gini\",\"entropy\"]\n",
    "max_leaf_nodes = [100,500,50]\n",
    "class_weight = [{0:1,1:1},{0:2,1:1},{0:3,1:1},{0:4,1:1}]"
   ]
  },
  {
   "cell_type": "markdown",
   "id": "60bbecd5",
   "metadata": {},
   "source": [
    "将参数设定为网格搜索可使用的字典形式，因排列组合过多，可分批次进行搜索探索"
   ]
  },
  {
   "cell_type": "code",
   "execution_count": 10,
   "id": "1bdc9d71",
   "metadata": {},
   "outputs": [],
   "source": [
    "params_state1 = {\"max_depth\":max_depth,\"min_samples_split\":min_samples_split,\"min_samples_leaf\":min_samples_leaf}\n",
    "params_state2 = {\"max_features\":max_features,\"criterion\":criterion,\"max_leaf_nodes\":max_leaf_nodes}\n",
    "params_state3 = {\"class_weight\":class_weight}"
   ]
  },
  {
   "cell_type": "code",
   "execution_count": 11,
   "id": "7cc3a3d8",
   "metadata": {},
   "outputs": [
    {
     "name": "stdout",
     "output_type": "stream",
     "text": [
      "Fitting 5 folds for each of 75 candidates, totalling 375 fits\n",
      "[CV] END max_depth=5, min_samples_leaf=1, min_samples_split=2; total time=   4.1s\n",
      "[CV] END max_depth=5, min_samples_leaf=1, min_samples_split=2; total time=   4.3s\n",
      "[CV] END max_depth=5, min_samples_leaf=1, min_samples_split=2; total time=   4.3s\n",
      "[CV] END max_depth=5, min_samples_leaf=1, min_samples_split=2; total time=   4.3s\n",
      "[CV] END max_depth=5, min_samples_leaf=1, min_samples_split=2; total time=   4.3s\n",
      "[CV] END max_depth=5, min_samples_leaf=1, min_samples_split=22; total time=   4.2s\n",
      "[CV] END max_depth=5, min_samples_leaf=1, min_samples_split=22; total time=   4.2s\n",
      "[CV] END max_depth=5, min_samples_leaf=1, min_samples_split=22; total time=   4.3s\n",
      "[CV] END max_depth=5, min_samples_leaf=1, min_samples_split=22; total time=   4.3s\n",
      "[CV] END max_depth=5, min_samples_leaf=1, min_samples_split=22; total time=   4.2s\n",
      "[CV] END max_depth=5, min_samples_leaf=1, min_samples_split=42; total time=   4.3s\n",
      "[CV] END max_depth=5, min_samples_leaf=1, min_samples_split=42; total time=   4.5s\n",
      "[CV] END max_depth=5, min_samples_leaf=1, min_samples_split=42; total time=   4.3s\n",
      "[CV] END max_depth=5, min_samples_leaf=1, min_samples_split=42; total time=   4.2s\n",
      "[CV] END max_depth=5, min_samples_leaf=1, min_samples_split=42; total time=   4.2s\n",
      "[CV] END max_depth=5, min_samples_leaf=1, min_samples_split=62; total time=   4.2s\n",
      "[CV] END max_depth=5, min_samples_leaf=1, min_samples_split=62; total time=   4.2s\n",
      "[CV] END max_depth=5, min_samples_leaf=1, min_samples_split=62; total time=   4.2s\n",
      "[CV] END max_depth=5, min_samples_leaf=1, min_samples_split=62; total time=   4.2s\n",
      "[CV] END max_depth=5, min_samples_leaf=1, min_samples_split=62; total time=   4.3s\n",
      "[CV] END max_depth=5, min_samples_leaf=1, min_samples_split=82; total time=   4.3s\n",
      "[CV] END max_depth=5, min_samples_leaf=1, min_samples_split=82; total time=   4.3s\n",
      "[CV] END max_depth=5, min_samples_leaf=1, min_samples_split=82; total time=   4.3s\n",
      "[CV] END max_depth=5, min_samples_leaf=1, min_samples_split=82; total time=   4.5s\n",
      "[CV] END max_depth=5, min_samples_leaf=1, min_samples_split=82; total time=   4.2s\n",
      "[CV] END max_depth=5, min_samples_leaf=11, min_samples_split=2; total time=   4.2s\n",
      "[CV] END max_depth=5, min_samples_leaf=11, min_samples_split=2; total time=   4.1s\n",
      "[CV] END max_depth=5, min_samples_leaf=11, min_samples_split=2; total time=   4.2s\n",
      "[CV] END max_depth=5, min_samples_leaf=11, min_samples_split=2; total time=   4.2s\n",
      "[CV] END max_depth=5, min_samples_leaf=11, min_samples_split=2; total time=   4.3s\n",
      "[CV] END max_depth=5, min_samples_leaf=11, min_samples_split=22; total time=   4.2s\n",
      "[CV] END max_depth=5, min_samples_leaf=11, min_samples_split=22; total time=   4.4s\n",
      "[CV] END max_depth=5, min_samples_leaf=11, min_samples_split=22; total time=   4.2s\n",
      "[CV] END max_depth=5, min_samples_leaf=11, min_samples_split=22; total time=   4.3s\n",
      "[CV] END max_depth=5, min_samples_leaf=11, min_samples_split=22; total time=   4.2s\n",
      "[CV] END max_depth=5, min_samples_leaf=11, min_samples_split=42; total time=   4.4s\n",
      "[CV] END max_depth=5, min_samples_leaf=11, min_samples_split=42; total time=   4.3s\n",
      "[CV] END max_depth=5, min_samples_leaf=11, min_samples_split=42; total time=   4.1s\n",
      "[CV] END max_depth=5, min_samples_leaf=11, min_samples_split=42; total time=   4.4s\n",
      "[CV] END max_depth=5, min_samples_leaf=11, min_samples_split=42; total time=   4.6s\n",
      "[CV] END max_depth=5, min_samples_leaf=11, min_samples_split=62; total time=   4.4s\n",
      "[CV] END max_depth=5, min_samples_leaf=11, min_samples_split=62; total time=   4.5s\n",
      "[CV] END max_depth=5, min_samples_leaf=11, min_samples_split=62; total time=   5.0s\n",
      "[CV] END max_depth=5, min_samples_leaf=11, min_samples_split=62; total time=   4.6s\n",
      "[CV] END max_depth=5, min_samples_leaf=11, min_samples_split=62; total time=   4.4s\n",
      "[CV] END max_depth=5, min_samples_leaf=11, min_samples_split=82; total time=   4.4s\n",
      "[CV] END max_depth=5, min_samples_leaf=11, min_samples_split=82; total time=   4.4s\n",
      "[CV] END max_depth=5, min_samples_leaf=11, min_samples_split=82; total time=   4.4s\n",
      "[CV] END max_depth=5, min_samples_leaf=11, min_samples_split=82; total time=   4.4s\n",
      "[CV] END max_depth=5, min_samples_leaf=11, min_samples_split=82; total time=   4.4s\n",
      "[CV] END max_depth=5, min_samples_leaf=21, min_samples_split=2; total time=   4.3s\n",
      "[CV] END max_depth=5, min_samples_leaf=21, min_samples_split=2; total time=   4.4s\n",
      "[CV] END max_depth=5, min_samples_leaf=21, min_samples_split=2; total time=   4.4s\n",
      "[CV] END max_depth=5, min_samples_leaf=21, min_samples_split=2; total time=   4.4s\n",
      "[CV] END max_depth=5, min_samples_leaf=21, min_samples_split=2; total time=   4.3s\n",
      "[CV] END max_depth=5, min_samples_leaf=21, min_samples_split=22; total time=   4.4s\n",
      "[CV] END max_depth=5, min_samples_leaf=21, min_samples_split=22; total time=   4.5s\n",
      "[CV] END max_depth=5, min_samples_leaf=21, min_samples_split=22; total time=   4.3s\n",
      "[CV] END max_depth=5, min_samples_leaf=21, min_samples_split=22; total time=   4.2s\n",
      "[CV] END max_depth=5, min_samples_leaf=21, min_samples_split=22; total time=   4.2s\n",
      "[CV] END max_depth=5, min_samples_leaf=21, min_samples_split=42; total time=   4.2s\n",
      "[CV] END max_depth=5, min_samples_leaf=21, min_samples_split=42; total time=   4.2s\n",
      "[CV] END max_depth=5, min_samples_leaf=21, min_samples_split=42; total time=   4.4s\n",
      "[CV] END max_depth=5, min_samples_leaf=21, min_samples_split=42; total time=   4.3s\n",
      "[CV] END max_depth=5, min_samples_leaf=21, min_samples_split=42; total time=   4.1s\n",
      "[CV] END max_depth=5, min_samples_leaf=21, min_samples_split=62; total time=   4.2s\n",
      "[CV] END max_depth=5, min_samples_leaf=21, min_samples_split=62; total time=   4.1s\n",
      "[CV] END max_depth=5, min_samples_leaf=21, min_samples_split=62; total time=   4.1s\n",
      "[CV] END max_depth=5, min_samples_leaf=21, min_samples_split=62; total time=   4.1s\n",
      "[CV] END max_depth=5, min_samples_leaf=21, min_samples_split=62; total time=   4.2s\n",
      "[CV] END max_depth=5, min_samples_leaf=21, min_samples_split=82; total time=   4.2s\n",
      "[CV] END max_depth=5, min_samples_leaf=21, min_samples_split=82; total time=   4.2s\n",
      "[CV] END max_depth=5, min_samples_leaf=21, min_samples_split=82; total time=   4.1s\n",
      "[CV] END max_depth=5, min_samples_leaf=21, min_samples_split=82; total time=   4.1s\n",
      "[CV] END max_depth=5, min_samples_leaf=21, min_samples_split=82; total time=   4.1s\n",
      "[CV] END max_depth=5, min_samples_leaf=31, min_samples_split=2; total time=   4.1s\n",
      "[CV] END max_depth=5, min_samples_leaf=31, min_samples_split=2; total time=   4.2s\n",
      "[CV] END max_depth=5, min_samples_leaf=31, min_samples_split=2; total time=   4.3s\n",
      "[CV] END max_depth=5, min_samples_leaf=31, min_samples_split=2; total time=   4.2s\n",
      "[CV] END max_depth=5, min_samples_leaf=31, min_samples_split=2; total time=   4.2s\n",
      "[CV] END max_depth=5, min_samples_leaf=31, min_samples_split=22; total time=   4.2s\n",
      "[CV] END max_depth=5, min_samples_leaf=31, min_samples_split=22; total time=   4.4s\n",
      "[CV] END max_depth=5, min_samples_leaf=31, min_samples_split=22; total time=   4.2s\n",
      "[CV] END max_depth=5, min_samples_leaf=31, min_samples_split=22; total time=   4.3s\n",
      "[CV] END max_depth=5, min_samples_leaf=31, min_samples_split=22; total time=   4.2s\n",
      "[CV] END max_depth=5, min_samples_leaf=31, min_samples_split=42; total time=   4.2s\n",
      "[CV] END max_depth=5, min_samples_leaf=31, min_samples_split=42; total time=   4.2s\n",
      "[CV] END max_depth=5, min_samples_leaf=31, min_samples_split=42; total time=   4.2s\n",
      "[CV] END max_depth=5, min_samples_leaf=31, min_samples_split=42; total time=   4.3s\n",
      "[CV] END max_depth=5, min_samples_leaf=31, min_samples_split=42; total time=   4.2s\n",
      "[CV] END max_depth=5, min_samples_leaf=31, min_samples_split=62; total time=   4.3s\n",
      "[CV] END max_depth=5, min_samples_leaf=31, min_samples_split=62; total time=   4.1s\n",
      "[CV] END max_depth=5, min_samples_leaf=31, min_samples_split=62; total time=   4.2s\n",
      "[CV] END max_depth=5, min_samples_leaf=31, min_samples_split=62; total time=   4.2s\n",
      "[CV] END max_depth=5, min_samples_leaf=31, min_samples_split=62; total time=   4.2s\n",
      "[CV] END max_depth=5, min_samples_leaf=31, min_samples_split=82; total time=   4.5s\n",
      "[CV] END max_depth=5, min_samples_leaf=31, min_samples_split=82; total time=   4.4s\n",
      "[CV] END max_depth=5, min_samples_leaf=31, min_samples_split=82; total time=   4.4s\n"
     ]
    },
    {
     "name": "stdout",
     "output_type": "stream",
     "text": [
      "[CV] END max_depth=5, min_samples_leaf=31, min_samples_split=82; total time=   4.5s\n",
      "[CV] END max_depth=5, min_samples_leaf=31, min_samples_split=82; total time=   4.4s\n",
      "[CV] END max_depth=5, min_samples_leaf=41, min_samples_split=2; total time=   4.5s\n",
      "[CV] END max_depth=5, min_samples_leaf=41, min_samples_split=2; total time=   4.2s\n",
      "[CV] END max_depth=5, min_samples_leaf=41, min_samples_split=2; total time=   4.4s\n",
      "[CV] END max_depth=5, min_samples_leaf=41, min_samples_split=2; total time=   4.4s\n",
      "[CV] END max_depth=5, min_samples_leaf=41, min_samples_split=2; total time=   4.5s\n",
      "[CV] END max_depth=5, min_samples_leaf=41, min_samples_split=22; total time=   4.4s\n",
      "[CV] END max_depth=5, min_samples_leaf=41, min_samples_split=22; total time=   4.4s\n",
      "[CV] END max_depth=5, min_samples_leaf=41, min_samples_split=22; total time=   4.4s\n",
      "[CV] END max_depth=5, min_samples_leaf=41, min_samples_split=22; total time=   4.3s\n",
      "[CV] END max_depth=5, min_samples_leaf=41, min_samples_split=22; total time=   4.3s\n",
      "[CV] END max_depth=5, min_samples_leaf=41, min_samples_split=42; total time=   4.3s\n",
      "[CV] END max_depth=5, min_samples_leaf=41, min_samples_split=42; total time=   4.3s\n",
      "[CV] END max_depth=5, min_samples_leaf=41, min_samples_split=42; total time=   4.3s\n",
      "[CV] END max_depth=5, min_samples_leaf=41, min_samples_split=42; total time=   4.3s\n",
      "[CV] END max_depth=5, min_samples_leaf=41, min_samples_split=42; total time=   4.5s\n",
      "[CV] END max_depth=5, min_samples_leaf=41, min_samples_split=62; total time=   4.4s\n",
      "[CV] END max_depth=5, min_samples_leaf=41, min_samples_split=62; total time=   4.5s\n",
      "[CV] END max_depth=5, min_samples_leaf=41, min_samples_split=62; total time=   4.5s\n",
      "[CV] END max_depth=5, min_samples_leaf=41, min_samples_split=62; total time=   4.4s\n",
      "[CV] END max_depth=5, min_samples_leaf=41, min_samples_split=62; total time=   4.3s\n",
      "[CV] END max_depth=5, min_samples_leaf=41, min_samples_split=82; total time=   4.3s\n",
      "[CV] END max_depth=5, min_samples_leaf=41, min_samples_split=82; total time=   4.3s\n",
      "[CV] END max_depth=5, min_samples_leaf=41, min_samples_split=82; total time=   4.3s\n",
      "[CV] END max_depth=5, min_samples_leaf=41, min_samples_split=82; total time=   4.3s\n",
      "[CV] END max_depth=5, min_samples_leaf=41, min_samples_split=82; total time=   4.3s\n",
      "[CV] END max_depth=7, min_samples_leaf=1, min_samples_split=2; total time=   6.0s\n",
      "[CV] END max_depth=7, min_samples_leaf=1, min_samples_split=2; total time=   5.9s\n",
      "[CV] END max_depth=7, min_samples_leaf=1, min_samples_split=2; total time=   6.0s\n",
      "[CV] END max_depth=7, min_samples_leaf=1, min_samples_split=2; total time=   6.2s\n",
      "[CV] END max_depth=7, min_samples_leaf=1, min_samples_split=2; total time=   5.8s\n",
      "[CV] END max_depth=7, min_samples_leaf=1, min_samples_split=22; total time=   6.2s\n",
      "[CV] END max_depth=7, min_samples_leaf=1, min_samples_split=22; total time=   5.7s\n",
      "[CV] END max_depth=7, min_samples_leaf=1, min_samples_split=22; total time=   5.7s\n",
      "[CV] END max_depth=7, min_samples_leaf=1, min_samples_split=22; total time=   5.7s\n",
      "[CV] END max_depth=7, min_samples_leaf=1, min_samples_split=22; total time=   6.2s\n",
      "[CV] END max_depth=7, min_samples_leaf=1, min_samples_split=42; total time=   6.1s\n",
      "[CV] END max_depth=7, min_samples_leaf=1, min_samples_split=42; total time=   5.7s\n",
      "[CV] END max_depth=7, min_samples_leaf=1, min_samples_split=42; total time=   6.0s\n",
      "[CV] END max_depth=7, min_samples_leaf=1, min_samples_split=42; total time=   6.1s\n",
      "[CV] END max_depth=7, min_samples_leaf=1, min_samples_split=42; total time=   5.7s\n",
      "[CV] END max_depth=7, min_samples_leaf=1, min_samples_split=62; total time=   5.8s\n",
      "[CV] END max_depth=7, min_samples_leaf=1, min_samples_split=62; total time=   5.7s\n",
      "[CV] END max_depth=7, min_samples_leaf=1, min_samples_split=62; total time=   5.7s\n",
      "[CV] END max_depth=7, min_samples_leaf=1, min_samples_split=62; total time=   6.0s\n",
      "[CV] END max_depth=7, min_samples_leaf=1, min_samples_split=62; total time=   5.9s\n",
      "[CV] END max_depth=7, min_samples_leaf=1, min_samples_split=82; total time=   6.0s\n",
      "[CV] END max_depth=7, min_samples_leaf=1, min_samples_split=82; total time=   6.0s\n",
      "[CV] END max_depth=7, min_samples_leaf=1, min_samples_split=82; total time=   6.0s\n",
      "[CV] END max_depth=7, min_samples_leaf=1, min_samples_split=82; total time=   6.0s\n",
      "[CV] END max_depth=7, min_samples_leaf=1, min_samples_split=82; total time=   6.0s\n",
      "[CV] END max_depth=7, min_samples_leaf=11, min_samples_split=2; total time=   6.1s\n",
      "[CV] END max_depth=7, min_samples_leaf=11, min_samples_split=2; total time=   6.0s\n",
      "[CV] END max_depth=7, min_samples_leaf=11, min_samples_split=2; total time=   6.0s\n",
      "[CV] END max_depth=7, min_samples_leaf=11, min_samples_split=2; total time=   6.1s\n",
      "[CV] END max_depth=7, min_samples_leaf=11, min_samples_split=2; total time=   6.1s\n",
      "[CV] END max_depth=7, min_samples_leaf=11, min_samples_split=22; total time=   6.2s\n",
      "[CV] END max_depth=7, min_samples_leaf=11, min_samples_split=22; total time=   6.1s\n",
      "[CV] END max_depth=7, min_samples_leaf=11, min_samples_split=22; total time=   6.0s\n",
      "[CV] END max_depth=7, min_samples_leaf=11, min_samples_split=22; total time=   6.0s\n",
      "[CV] END max_depth=7, min_samples_leaf=11, min_samples_split=22; total time=   6.1s\n",
      "[CV] END max_depth=7, min_samples_leaf=11, min_samples_split=42; total time=   5.9s\n",
      "[CV] END max_depth=7, min_samples_leaf=11, min_samples_split=42; total time=   5.7s\n",
      "[CV] END max_depth=7, min_samples_leaf=11, min_samples_split=42; total time=   5.9s\n",
      "[CV] END max_depth=7, min_samples_leaf=11, min_samples_split=42; total time=   6.3s\n",
      "[CV] END max_depth=7, min_samples_leaf=11, min_samples_split=42; total time=   5.9s\n",
      "[CV] END max_depth=7, min_samples_leaf=11, min_samples_split=62; total time=   6.4s\n",
      "[CV] END max_depth=7, min_samples_leaf=11, min_samples_split=62; total time=   5.7s\n",
      "[CV] END max_depth=7, min_samples_leaf=11, min_samples_split=62; total time=   5.8s\n",
      "[CV] END max_depth=7, min_samples_leaf=11, min_samples_split=62; total time=   5.9s\n",
      "[CV] END max_depth=7, min_samples_leaf=11, min_samples_split=62; total time=   6.1s\n",
      "[CV] END max_depth=7, min_samples_leaf=11, min_samples_split=82; total time=   6.1s\n",
      "[CV] END max_depth=7, min_samples_leaf=11, min_samples_split=82; total time=   6.0s\n",
      "[CV] END max_depth=7, min_samples_leaf=11, min_samples_split=82; total time=   6.0s\n",
      "[CV] END max_depth=7, min_samples_leaf=11, min_samples_split=82; total time=   6.0s\n",
      "[CV] END max_depth=7, min_samples_leaf=11, min_samples_split=82; total time=   6.0s\n",
      "[CV] END max_depth=7, min_samples_leaf=21, min_samples_split=2; total time=   6.0s\n",
      "[CV] END max_depth=7, min_samples_leaf=21, min_samples_split=2; total time=   6.0s\n",
      "[CV] END max_depth=7, min_samples_leaf=21, min_samples_split=2; total time=   6.1s\n",
      "[CV] END max_depth=7, min_samples_leaf=21, min_samples_split=2; total time=   6.1s\n",
      "[CV] END max_depth=7, min_samples_leaf=21, min_samples_split=2; total time=   6.1s\n",
      "[CV] END max_depth=7, min_samples_leaf=21, min_samples_split=22; total time=   6.0s\n",
      "[CV] END max_depth=7, min_samples_leaf=21, min_samples_split=22; total time=   6.0s\n",
      "[CV] END max_depth=7, min_samples_leaf=21, min_samples_split=22; total time=   6.0s\n",
      "[CV] END max_depth=7, min_samples_leaf=21, min_samples_split=22; total time=   6.3s\n",
      "[CV] END max_depth=7, min_samples_leaf=21, min_samples_split=22; total time=   6.1s\n",
      "[CV] END max_depth=7, min_samples_leaf=21, min_samples_split=42; total time=   6.0s\n",
      "[CV] END max_depth=7, min_samples_leaf=21, min_samples_split=42; total time=   5.9s\n",
      "[CV] END max_depth=7, min_samples_leaf=21, min_samples_split=42; total time=   5.9s\n",
      "[CV] END max_depth=7, min_samples_leaf=21, min_samples_split=42; total time=   5.9s\n",
      "[CV] END max_depth=7, min_samples_leaf=21, min_samples_split=42; total time=   5.9s\n",
      "[CV] END max_depth=7, min_samples_leaf=21, min_samples_split=62; total time=   6.0s\n",
      "[CV] END max_depth=7, min_samples_leaf=21, min_samples_split=62; total time=   5.9s\n",
      "[CV] END max_depth=7, min_samples_leaf=21, min_samples_split=62; total time=   5.9s\n",
      "[CV] END max_depth=7, min_samples_leaf=21, min_samples_split=62; total time=   5.9s\n",
      "[CV] END max_depth=7, min_samples_leaf=21, min_samples_split=62; total time=   6.0s\n",
      "[CV] END max_depth=7, min_samples_leaf=21, min_samples_split=82; total time=   6.0s\n",
      "[CV] END max_depth=7, min_samples_leaf=21, min_samples_split=82; total time=   6.0s\n"
     ]
    },
    {
     "name": "stdout",
     "output_type": "stream",
     "text": [
      "[CV] END max_depth=7, min_samples_leaf=21, min_samples_split=82; total time=   5.9s\n",
      "[CV] END max_depth=7, min_samples_leaf=21, min_samples_split=82; total time=   5.9s\n",
      "[CV] END max_depth=7, min_samples_leaf=21, min_samples_split=82; total time=   5.9s\n",
      "[CV] END max_depth=7, min_samples_leaf=31, min_samples_split=2; total time=   5.9s\n",
      "[CV] END max_depth=7, min_samples_leaf=31, min_samples_split=2; total time=   6.0s\n",
      "[CV] END max_depth=7, min_samples_leaf=31, min_samples_split=2; total time=   6.1s\n",
      "[CV] END max_depth=7, min_samples_leaf=31, min_samples_split=2; total time=   5.9s\n",
      "[CV] END max_depth=7, min_samples_leaf=31, min_samples_split=2; total time=   5.8s\n",
      "[CV] END max_depth=7, min_samples_leaf=31, min_samples_split=22; total time=   5.9s\n",
      "[CV] END max_depth=7, min_samples_leaf=31, min_samples_split=22; total time=   5.9s\n",
      "[CV] END max_depth=7, min_samples_leaf=31, min_samples_split=22; total time=   5.9s\n",
      "[CV] END max_depth=7, min_samples_leaf=31, min_samples_split=22; total time=   6.2s\n",
      "[CV] END max_depth=7, min_samples_leaf=31, min_samples_split=22; total time=   6.0s\n",
      "[CV] END max_depth=7, min_samples_leaf=31, min_samples_split=42; total time=   5.9s\n",
      "[CV] END max_depth=7, min_samples_leaf=31, min_samples_split=42; total time=   5.9s\n",
      "[CV] END max_depth=7, min_samples_leaf=31, min_samples_split=42; total time=   5.9s\n",
      "[CV] END max_depth=7, min_samples_leaf=31, min_samples_split=42; total time=   6.0s\n",
      "[CV] END max_depth=7, min_samples_leaf=31, min_samples_split=42; total time=   5.9s\n",
      "[CV] END max_depth=7, min_samples_leaf=31, min_samples_split=62; total time=   6.0s\n",
      "[CV] END max_depth=7, min_samples_leaf=31, min_samples_split=62; total time=   6.0s\n",
      "[CV] END max_depth=7, min_samples_leaf=31, min_samples_split=62; total time=   6.0s\n",
      "[CV] END max_depth=7, min_samples_leaf=31, min_samples_split=62; total time=   6.1s\n",
      "[CV] END max_depth=7, min_samples_leaf=31, min_samples_split=62; total time=   6.2s\n",
      "[CV] END max_depth=7, min_samples_leaf=31, min_samples_split=82; total time=   6.1s\n",
      "[CV] END max_depth=7, min_samples_leaf=31, min_samples_split=82; total time=   6.2s\n",
      "[CV] END max_depth=7, min_samples_leaf=31, min_samples_split=82; total time=   6.2s\n",
      "[CV] END max_depth=7, min_samples_leaf=31, min_samples_split=82; total time=   6.0s\n",
      "[CV] END max_depth=7, min_samples_leaf=31, min_samples_split=82; total time=   5.9s\n",
      "[CV] END max_depth=7, min_samples_leaf=41, min_samples_split=2; total time=   5.9s\n",
      "[CV] END max_depth=7, min_samples_leaf=41, min_samples_split=2; total time=   5.9s\n",
      "[CV] END max_depth=7, min_samples_leaf=41, min_samples_split=2; total time=   5.9s\n",
      "[CV] END max_depth=7, min_samples_leaf=41, min_samples_split=2; total time=   5.9s\n",
      "[CV] END max_depth=7, min_samples_leaf=41, min_samples_split=2; total time=   5.8s\n",
      "[CV] END max_depth=7, min_samples_leaf=41, min_samples_split=22; total time=   5.8s\n",
      "[CV] END max_depth=7, min_samples_leaf=41, min_samples_split=22; total time=   5.9s\n",
      "[CV] END max_depth=7, min_samples_leaf=41, min_samples_split=22; total time=   5.9s\n",
      "[CV] END max_depth=7, min_samples_leaf=41, min_samples_split=22; total time=   5.9s\n",
      "[CV] END max_depth=7, min_samples_leaf=41, min_samples_split=22; total time=   6.2s\n",
      "[CV] END max_depth=7, min_samples_leaf=41, min_samples_split=42; total time=   6.5s\n",
      "[CV] END max_depth=7, min_samples_leaf=41, min_samples_split=42; total time=   6.0s\n",
      "[CV] END max_depth=7, min_samples_leaf=41, min_samples_split=42; total time=   6.0s\n",
      "[CV] END max_depth=7, min_samples_leaf=41, min_samples_split=42; total time=   6.1s\n",
      "[CV] END max_depth=7, min_samples_leaf=41, min_samples_split=42; total time=   6.0s\n",
      "[CV] END max_depth=7, min_samples_leaf=41, min_samples_split=62; total time=   6.1s\n",
      "[CV] END max_depth=7, min_samples_leaf=41, min_samples_split=62; total time=   6.1s\n",
      "[CV] END max_depth=7, min_samples_leaf=41, min_samples_split=62; total time=   6.1s\n",
      "[CV] END max_depth=7, min_samples_leaf=41, min_samples_split=62; total time=   6.2s\n",
      "[CV] END max_depth=7, min_samples_leaf=41, min_samples_split=62; total time=   6.1s\n",
      "[CV] END max_depth=7, min_samples_leaf=41, min_samples_split=82; total time=   5.9s\n",
      "[CV] END max_depth=7, min_samples_leaf=41, min_samples_split=82; total time=   5.9s\n",
      "[CV] END max_depth=7, min_samples_leaf=41, min_samples_split=82; total time=   5.9s\n",
      "[CV] END max_depth=7, min_samples_leaf=41, min_samples_split=82; total time=   5.9s\n",
      "[CV] END max_depth=7, min_samples_leaf=41, min_samples_split=82; total time=   5.8s\n",
      "[CV] END max_depth=9, min_samples_leaf=1, min_samples_split=2; total time=   7.4s\n",
      "[CV] END max_depth=9, min_samples_leaf=1, min_samples_split=2; total time=   7.4s\n",
      "[CV] END max_depth=9, min_samples_leaf=1, min_samples_split=2; total time=   7.5s\n",
      "[CV] END max_depth=9, min_samples_leaf=1, min_samples_split=2; total time=   7.3s\n",
      "[CV] END max_depth=9, min_samples_leaf=1, min_samples_split=2; total time=   7.2s\n",
      "[CV] END max_depth=9, min_samples_leaf=1, min_samples_split=22; total time=   7.2s\n",
      "[CV] END max_depth=9, min_samples_leaf=1, min_samples_split=22; total time=   7.2s\n",
      "[CV] END max_depth=9, min_samples_leaf=1, min_samples_split=22; total time=   7.2s\n",
      "[CV] END max_depth=9, min_samples_leaf=1, min_samples_split=22; total time=   7.2s\n",
      "[CV] END max_depth=9, min_samples_leaf=1, min_samples_split=22; total time=   7.2s\n",
      "[CV] END max_depth=9, min_samples_leaf=1, min_samples_split=42; total time=   7.2s\n",
      "[CV] END max_depth=9, min_samples_leaf=1, min_samples_split=42; total time=   7.4s\n",
      "[CV] END max_depth=9, min_samples_leaf=1, min_samples_split=42; total time=   7.9s\n",
      "[CV] END max_depth=9, min_samples_leaf=1, min_samples_split=42; total time=   7.6s\n",
      "[CV] END max_depth=9, min_samples_leaf=1, min_samples_split=42; total time=   7.3s\n",
      "[CV] END max_depth=9, min_samples_leaf=1, min_samples_split=62; total time=   7.3s\n",
      "[CV] END max_depth=9, min_samples_leaf=1, min_samples_split=62; total time=   7.4s\n",
      "[CV] END max_depth=9, min_samples_leaf=1, min_samples_split=62; total time=   7.6s\n",
      "[CV] END max_depth=9, min_samples_leaf=1, min_samples_split=62; total time=   7.4s\n",
      "[CV] END max_depth=9, min_samples_leaf=1, min_samples_split=62; total time=   7.3s\n",
      "[CV] END max_depth=9, min_samples_leaf=1, min_samples_split=82; total time=   7.3s\n",
      "[CV] END max_depth=9, min_samples_leaf=1, min_samples_split=82; total time=   7.3s\n",
      "[CV] END max_depth=9, min_samples_leaf=1, min_samples_split=82; total time=   7.2s\n",
      "[CV] END max_depth=9, min_samples_leaf=1, min_samples_split=82; total time=   7.3s\n",
      "[CV] END max_depth=9, min_samples_leaf=1, min_samples_split=82; total time=   7.2s\n",
      "[CV] END max_depth=9, min_samples_leaf=11, min_samples_split=2; total time=   7.5s\n",
      "[CV] END max_depth=9, min_samples_leaf=11, min_samples_split=2; total time=   7.4s\n",
      "[CV] END max_depth=9, min_samples_leaf=11, min_samples_split=2; total time=   7.3s\n",
      "[CV] END max_depth=9, min_samples_leaf=11, min_samples_split=2; total time=   7.3s\n",
      "[CV] END max_depth=9, min_samples_leaf=11, min_samples_split=2; total time=   7.2s\n",
      "[CV] END max_depth=9, min_samples_leaf=11, min_samples_split=22; total time=   7.4s\n",
      "[CV] END max_depth=9, min_samples_leaf=11, min_samples_split=22; total time=   7.4s\n",
      "[CV] END max_depth=9, min_samples_leaf=11, min_samples_split=22; total time=   7.3s\n",
      "[CV] END max_depth=9, min_samples_leaf=11, min_samples_split=22; total time=   7.2s\n",
      "[CV] END max_depth=9, min_samples_leaf=11, min_samples_split=22; total time=   7.2s\n",
      "[CV] END max_depth=9, min_samples_leaf=11, min_samples_split=42; total time=   7.5s\n",
      "[CV] END max_depth=9, min_samples_leaf=11, min_samples_split=42; total time=   7.3s\n",
      "[CV] END max_depth=9, min_samples_leaf=11, min_samples_split=42; total time=   7.1s\n",
      "[CV] END max_depth=9, min_samples_leaf=11, min_samples_split=42; total time=   7.1s\n",
      "[CV] END max_depth=9, min_samples_leaf=11, min_samples_split=42; total time=   7.1s\n",
      "[CV] END max_depth=9, min_samples_leaf=11, min_samples_split=62; total time=   7.1s\n",
      "[CV] END max_depth=9, min_samples_leaf=11, min_samples_split=62; total time=   7.1s\n",
      "[CV] END max_depth=9, min_samples_leaf=11, min_samples_split=62; total time=   7.3s\n",
      "[CV] END max_depth=9, min_samples_leaf=11, min_samples_split=62; total time=   7.5s\n",
      "[CV] END max_depth=9, min_samples_leaf=11, min_samples_split=62; total time=   7.7s\n",
      "[CV] END max_depth=9, min_samples_leaf=11, min_samples_split=82; total time=   7.5s\n"
     ]
    },
    {
     "name": "stdout",
     "output_type": "stream",
     "text": [
      "[CV] END max_depth=9, min_samples_leaf=11, min_samples_split=82; total time=   7.6s\n",
      "[CV] END max_depth=9, min_samples_leaf=11, min_samples_split=82; total time=   7.6s\n",
      "[CV] END max_depth=9, min_samples_leaf=11, min_samples_split=82; total time=   7.6s\n",
      "[CV] END max_depth=9, min_samples_leaf=11, min_samples_split=82; total time=   7.7s\n",
      "[CV] END max_depth=9, min_samples_leaf=21, min_samples_split=2; total time=   7.5s\n",
      "[CV] END max_depth=9, min_samples_leaf=21, min_samples_split=2; total time=   7.5s\n",
      "[CV] END max_depth=9, min_samples_leaf=21, min_samples_split=2; total time=   7.5s\n",
      "[CV] END max_depth=9, min_samples_leaf=21, min_samples_split=2; total time=   7.4s\n",
      "[CV] END max_depth=9, min_samples_leaf=21, min_samples_split=2; total time=   7.5s\n",
      "[CV] END max_depth=9, min_samples_leaf=21, min_samples_split=22; total time=   7.4s\n",
      "[CV] END max_depth=9, min_samples_leaf=21, min_samples_split=22; total time=   7.4s\n",
      "[CV] END max_depth=9, min_samples_leaf=21, min_samples_split=22; total time=   7.4s\n",
      "[CV] END max_depth=9, min_samples_leaf=21, min_samples_split=22; total time=   7.4s\n",
      "[CV] END max_depth=9, min_samples_leaf=21, min_samples_split=22; total time=   7.4s\n",
      "[CV] END max_depth=9, min_samples_leaf=21, min_samples_split=42; total time=   7.4s\n",
      "[CV] END max_depth=9, min_samples_leaf=21, min_samples_split=42; total time=   7.4s\n",
      "[CV] END max_depth=9, min_samples_leaf=21, min_samples_split=42; total time=   7.5s\n",
      "[CV] END max_depth=9, min_samples_leaf=21, min_samples_split=42; total time=   7.5s\n",
      "[CV] END max_depth=9, min_samples_leaf=21, min_samples_split=42; total time=   7.4s\n",
      "[CV] END max_depth=9, min_samples_leaf=21, min_samples_split=62; total time=   7.4s\n",
      "[CV] END max_depth=9, min_samples_leaf=21, min_samples_split=62; total time=   7.6s\n",
      "[CV] END max_depth=9, min_samples_leaf=21, min_samples_split=62; total time=   7.6s\n",
      "[CV] END max_depth=9, min_samples_leaf=21, min_samples_split=62; total time=   7.5s\n",
      "[CV] END max_depth=9, min_samples_leaf=21, min_samples_split=62; total time=   7.5s\n",
      "[CV] END max_depth=9, min_samples_leaf=21, min_samples_split=82; total time=   7.7s\n",
      "[CV] END max_depth=9, min_samples_leaf=21, min_samples_split=82; total time=   7.5s\n",
      "[CV] END max_depth=9, min_samples_leaf=21, min_samples_split=82; total time=   7.1s\n",
      "[CV] END max_depth=9, min_samples_leaf=21, min_samples_split=82; total time=   7.1s\n",
      "[CV] END max_depth=9, min_samples_leaf=21, min_samples_split=82; total time=   7.1s\n",
      "[CV] END max_depth=9, min_samples_leaf=31, min_samples_split=2; total time=   7.1s\n",
      "[CV] END max_depth=9, min_samples_leaf=31, min_samples_split=2; total time=   7.1s\n",
      "[CV] END max_depth=9, min_samples_leaf=31, min_samples_split=2; total time=   7.1s\n",
      "[CV] END max_depth=9, min_samples_leaf=31, min_samples_split=2; total time=   7.1s\n",
      "[CV] END max_depth=9, min_samples_leaf=31, min_samples_split=2; total time=   7.1s\n",
      "[CV] END max_depth=9, min_samples_leaf=31, min_samples_split=22; total time=   7.1s\n",
      "[CV] END max_depth=9, min_samples_leaf=31, min_samples_split=22; total time=   7.1s\n",
      "[CV] END max_depth=9, min_samples_leaf=31, min_samples_split=22; total time=   7.1s\n",
      "[CV] END max_depth=9, min_samples_leaf=31, min_samples_split=22; total time=   7.1s\n",
      "[CV] END max_depth=9, min_samples_leaf=31, min_samples_split=22; total time=   7.1s\n",
      "[CV] END max_depth=9, min_samples_leaf=31, min_samples_split=42; total time=   7.1s\n",
      "[CV] END max_depth=9, min_samples_leaf=31, min_samples_split=42; total time=   7.0s\n",
      "[CV] END max_depth=9, min_samples_leaf=31, min_samples_split=42; total time=   7.1s\n",
      "[CV] END max_depth=9, min_samples_leaf=31, min_samples_split=42; total time=   7.0s\n",
      "[CV] END max_depth=9, min_samples_leaf=31, min_samples_split=42; total time=   7.1s\n",
      "[CV] END max_depth=9, min_samples_leaf=31, min_samples_split=62; total time=   7.1s\n",
      "[CV] END max_depth=9, min_samples_leaf=31, min_samples_split=62; total time=   7.2s\n",
      "[CV] END max_depth=9, min_samples_leaf=31, min_samples_split=62; total time=   7.2s\n",
      "[CV] END max_depth=9, min_samples_leaf=31, min_samples_split=62; total time=   7.3s\n",
      "[CV] END max_depth=9, min_samples_leaf=31, min_samples_split=62; total time=   7.2s\n",
      "[CV] END max_depth=9, min_samples_leaf=31, min_samples_split=82; total time=   7.1s\n",
      "[CV] END max_depth=9, min_samples_leaf=31, min_samples_split=82; total time=   7.1s\n",
      "[CV] END max_depth=9, min_samples_leaf=31, min_samples_split=82; total time=   7.1s\n",
      "[CV] END max_depth=9, min_samples_leaf=31, min_samples_split=82; total time=   7.1s\n",
      "[CV] END max_depth=9, min_samples_leaf=31, min_samples_split=82; total time=   7.1s\n",
      "[CV] END max_depth=9, min_samples_leaf=41, min_samples_split=2; total time=   7.1s\n",
      "[CV] END max_depth=9, min_samples_leaf=41, min_samples_split=2; total time=   7.1s\n",
      "[CV] END max_depth=9, min_samples_leaf=41, min_samples_split=2; total time=   7.1s\n",
      "[CV] END max_depth=9, min_samples_leaf=41, min_samples_split=2; total time=   7.0s\n",
      "[CV] END max_depth=9, min_samples_leaf=41, min_samples_split=2; total time=   7.1s\n",
      "[CV] END max_depth=9, min_samples_leaf=41, min_samples_split=22; total time=   7.1s\n",
      "[CV] END max_depth=9, min_samples_leaf=41, min_samples_split=22; total time=   7.1s\n",
      "[CV] END max_depth=9, min_samples_leaf=41, min_samples_split=22; total time=   7.1s\n",
      "[CV] END max_depth=9, min_samples_leaf=41, min_samples_split=22; total time=   7.1s\n",
      "[CV] END max_depth=9, min_samples_leaf=41, min_samples_split=22; total time=   7.1s\n",
      "[CV] END max_depth=9, min_samples_leaf=41, min_samples_split=42; total time=   7.1s\n",
      "[CV] END max_depth=9, min_samples_leaf=41, min_samples_split=42; total time=   7.1s\n",
      "[CV] END max_depth=9, min_samples_leaf=41, min_samples_split=42; total time=   7.1s\n",
      "[CV] END max_depth=9, min_samples_leaf=41, min_samples_split=42; total time=   7.1s\n",
      "[CV] END max_depth=9, min_samples_leaf=41, min_samples_split=42; total time=   7.1s\n",
      "[CV] END max_depth=9, min_samples_leaf=41, min_samples_split=62; total time=   7.1s\n",
      "[CV] END max_depth=9, min_samples_leaf=41, min_samples_split=62; total time=   7.1s\n",
      "[CV] END max_depth=9, min_samples_leaf=41, min_samples_split=62; total time=   7.1s\n",
      "[CV] END max_depth=9, min_samples_leaf=41, min_samples_split=62; total time=   7.1s\n",
      "[CV] END max_depth=9, min_samples_leaf=41, min_samples_split=62; total time=   7.1s\n",
      "[CV] END max_depth=9, min_samples_leaf=41, min_samples_split=82; total time=   7.1s\n",
      "[CV] END max_depth=9, min_samples_leaf=41, min_samples_split=82; total time=   7.1s\n",
      "[CV] END max_depth=9, min_samples_leaf=41, min_samples_split=82; total time=   7.1s\n",
      "[CV] END max_depth=9, min_samples_leaf=41, min_samples_split=82; total time=   7.1s\n",
      "[CV] END max_depth=9, min_samples_leaf=41, min_samples_split=82; total time=   7.1s\n",
      "Fitting 5 folds for each of 30 candidates, totalling 150 fits\n",
      "[CV] END criterion=gin, max_features=0.1, max_leaf_nodes=100; total time=   0.2s\n",
      "[CV] END criterion=gin, max_features=0.1, max_leaf_nodes=100; total time=   0.2s\n",
      "[CV] END criterion=gin, max_features=0.1, max_leaf_nodes=100; total time=   0.2s\n",
      "[CV] END criterion=gin, max_features=0.1, max_leaf_nodes=100; total time=   0.2s\n",
      "[CV] END criterion=gin, max_features=0.1, max_leaf_nodes=100; total time=   0.2s\n",
      "[CV] END criterion=gin, max_features=0.1, max_leaf_nodes=500; total time=   0.2s\n",
      "[CV] END criterion=gin, max_features=0.1, max_leaf_nodes=500; total time=   0.2s\n",
      "[CV] END criterion=gin, max_features=0.1, max_leaf_nodes=500; total time=   0.2s\n",
      "[CV] END criterion=gin, max_features=0.1, max_leaf_nodes=500; total time=   0.2s\n",
      "[CV] END criterion=gin, max_features=0.1, max_leaf_nodes=500; total time=   0.2s\n",
      "[CV] END .criterion=gin, max_features=0.1, max_leaf_nodes=50; total time=   0.2s\n",
      "[CV] END .criterion=gin, max_features=0.1, max_leaf_nodes=50; total time=   0.3s\n",
      "[CV] END .criterion=gin, max_features=0.1, max_leaf_nodes=50; total time=   0.2s\n",
      "[CV] END .criterion=gin, max_features=0.1, max_leaf_nodes=50; total time=   0.2s\n",
      "[CV] END .criterion=gin, max_features=0.1, max_leaf_nodes=50; total time=   0.2s\n",
      "[CV] END criterion=gin, max_features=0.3, max_leaf_nodes=100; total time=   0.2s\n",
      "[CV] END criterion=gin, max_features=0.3, max_leaf_nodes=100; total time=   0.2s\n",
      "[CV] END criterion=gin, max_features=0.3, max_leaf_nodes=100; total time=   0.2s\n",
      "[CV] END criterion=gin, max_features=0.3, max_leaf_nodes=100; total time=   0.2s\n"
     ]
    },
    {
     "name": "stdout",
     "output_type": "stream",
     "text": [
      "[CV] END criterion=gin, max_features=0.3, max_leaf_nodes=100; total time=   0.2s\n",
      "[CV] END criterion=gin, max_features=0.3, max_leaf_nodes=500; total time=   0.2s\n",
      "[CV] END criterion=gin, max_features=0.3, max_leaf_nodes=500; total time=   0.2s\n",
      "[CV] END criterion=gin, max_features=0.3, max_leaf_nodes=500; total time=   0.2s\n",
      "[CV] END criterion=gin, max_features=0.3, max_leaf_nodes=500; total time=   0.2s\n",
      "[CV] END criterion=gin, max_features=0.3, max_leaf_nodes=500; total time=   0.2s\n",
      "[CV] END .criterion=gin, max_features=0.3, max_leaf_nodes=50; total time=   0.2s\n",
      "[CV] END .criterion=gin, max_features=0.3, max_leaf_nodes=50; total time=   0.2s\n",
      "[CV] END .criterion=gin, max_features=0.3, max_leaf_nodes=50; total time=   0.2s\n",
      "[CV] END .criterion=gin, max_features=0.3, max_leaf_nodes=50; total time=   0.2s\n",
      "[CV] END .criterion=gin, max_features=0.3, max_leaf_nodes=50; total time=   0.2s\n",
      "[CV] END criterion=gin, max_features=0.5, max_leaf_nodes=100; total time=   0.2s\n",
      "[CV] END criterion=gin, max_features=0.5, max_leaf_nodes=100; total time=   0.2s\n",
      "[CV] END criterion=gin, max_features=0.5, max_leaf_nodes=100; total time=   0.2s\n",
      "[CV] END criterion=gin, max_features=0.5, max_leaf_nodes=100; total time=   0.2s\n",
      "[CV] END criterion=gin, max_features=0.5, max_leaf_nodes=100; total time=   0.2s\n",
      "[CV] END criterion=gin, max_features=0.5, max_leaf_nodes=500; total time=   0.2s\n",
      "[CV] END criterion=gin, max_features=0.5, max_leaf_nodes=500; total time=   0.2s\n",
      "[CV] END criterion=gin, max_features=0.5, max_leaf_nodes=500; total time=   0.2s\n",
      "[CV] END criterion=gin, max_features=0.5, max_leaf_nodes=500; total time=   0.2s\n",
      "[CV] END criterion=gin, max_features=0.5, max_leaf_nodes=500; total time=   0.2s\n",
      "[CV] END .criterion=gin, max_features=0.5, max_leaf_nodes=50; total time=   0.2s\n",
      "[CV] END .criterion=gin, max_features=0.5, max_leaf_nodes=50; total time=   0.2s\n",
      "[CV] END .criterion=gin, max_features=0.5, max_leaf_nodes=50; total time=   0.2s\n",
      "[CV] END .criterion=gin, max_features=0.5, max_leaf_nodes=50; total time=   0.2s\n",
      "[CV] END .criterion=gin, max_features=0.5, max_leaf_nodes=50; total time=   0.2s\n",
      "[CV] END criterion=gin, max_features=0.7, max_leaf_nodes=100; total time=   0.2s\n",
      "[CV] END criterion=gin, max_features=0.7, max_leaf_nodes=100; total time=   0.2s\n",
      "[CV] END criterion=gin, max_features=0.7, max_leaf_nodes=100; total time=   0.2s\n",
      "[CV] END criterion=gin, max_features=0.7, max_leaf_nodes=100; total time=   0.2s\n",
      "[CV] END criterion=gin, max_features=0.7, max_leaf_nodes=100; total time=   0.2s\n",
      "[CV] END criterion=gin, max_features=0.7, max_leaf_nodes=500; total time=   0.2s\n",
      "[CV] END criterion=gin, max_features=0.7, max_leaf_nodes=500; total time=   0.2s\n",
      "[CV] END criterion=gin, max_features=0.7, max_leaf_nodes=500; total time=   0.2s\n",
      "[CV] END criterion=gin, max_features=0.7, max_leaf_nodes=500; total time=   0.2s\n",
      "[CV] END criterion=gin, max_features=0.7, max_leaf_nodes=500; total time=   0.2s\n",
      "[CV] END .criterion=gin, max_features=0.7, max_leaf_nodes=50; total time=   0.2s\n",
      "[CV] END .criterion=gin, max_features=0.7, max_leaf_nodes=50; total time=   0.2s\n",
      "[CV] END .criterion=gin, max_features=0.7, max_leaf_nodes=50; total time=   0.2s\n",
      "[CV] END .criterion=gin, max_features=0.7, max_leaf_nodes=50; total time=   0.2s\n",
      "[CV] END .criterion=gin, max_features=0.7, max_leaf_nodes=50; total time=   0.2s\n",
      "[CV] END criterion=gin, max_features=0.9, max_leaf_nodes=100; total time=   0.2s\n",
      "[CV] END criterion=gin, max_features=0.9, max_leaf_nodes=100; total time=   0.2s\n",
      "[CV] END criterion=gin, max_features=0.9, max_leaf_nodes=100; total time=   0.2s\n",
      "[CV] END criterion=gin, max_features=0.9, max_leaf_nodes=100; total time=   0.2s\n",
      "[CV] END criterion=gin, max_features=0.9, max_leaf_nodes=100; total time=   0.2s\n",
      "[CV] END criterion=gin, max_features=0.9, max_leaf_nodes=500; total time=   0.2s\n",
      "[CV] END criterion=gin, max_features=0.9, max_leaf_nodes=500; total time=   0.2s\n",
      "[CV] END criterion=gin, max_features=0.9, max_leaf_nodes=500; total time=   0.2s\n",
      "[CV] END criterion=gin, max_features=0.9, max_leaf_nodes=500; total time=   0.2s\n",
      "[CV] END criterion=gin, max_features=0.9, max_leaf_nodes=500; total time=   0.2s\n",
      "[CV] END .criterion=gin, max_features=0.9, max_leaf_nodes=50; total time=   0.2s\n",
      "[CV] END .criterion=gin, max_features=0.9, max_leaf_nodes=50; total time=   0.2s\n",
      "[CV] END .criterion=gin, max_features=0.9, max_leaf_nodes=50; total time=   0.2s\n",
      "[CV] END .criterion=gin, max_features=0.9, max_leaf_nodes=50; total time=   0.2s\n",
      "[CV] END .criterion=gin, max_features=0.9, max_leaf_nodes=50; total time=   0.2s\n",
      "[CV] END criterion=entropy, max_features=0.1, max_leaf_nodes=100; total time=   1.0s\n",
      "[CV] END criterion=entropy, max_features=0.1, max_leaf_nodes=100; total time=   1.0s\n",
      "[CV] END criterion=entropy, max_features=0.1, max_leaf_nodes=100; total time=   1.0s\n",
      "[CV] END criterion=entropy, max_features=0.1, max_leaf_nodes=100; total time=   1.0s\n",
      "[CV] END criterion=entropy, max_features=0.1, max_leaf_nodes=100; total time=   0.9s\n",
      "[CV] END criterion=entropy, max_features=0.1, max_leaf_nodes=500; total time=   1.1s\n",
      "[CV] END criterion=entropy, max_features=0.1, max_leaf_nodes=500; total time=   1.1s\n",
      "[CV] END criterion=entropy, max_features=0.1, max_leaf_nodes=500; total time=   1.1s\n",
      "[CV] END criterion=entropy, max_features=0.1, max_leaf_nodes=500; total time=   1.0s\n",
      "[CV] END criterion=entropy, max_features=0.1, max_leaf_nodes=500; total time=   1.1s\n",
      "[CV] END criterion=entropy, max_features=0.1, max_leaf_nodes=50; total time=   0.9s\n",
      "[CV] END criterion=entropy, max_features=0.1, max_leaf_nodes=50; total time=   0.9s\n",
      "[CV] END criterion=entropy, max_features=0.1, max_leaf_nodes=50; total time=   0.9s\n",
      "[CV] END criterion=entropy, max_features=0.1, max_leaf_nodes=50; total time=   0.9s\n",
      "[CV] END criterion=entropy, max_features=0.1, max_leaf_nodes=50; total time=   0.9s\n",
      "[CV] END criterion=entropy, max_features=0.3, max_leaf_nodes=100; total time=   2.3s\n",
      "[CV] END criterion=entropy, max_features=0.3, max_leaf_nodes=100; total time=   2.4s\n",
      "[CV] END criterion=entropy, max_features=0.3, max_leaf_nodes=100; total time=   2.4s\n",
      "[CV] END criterion=entropy, max_features=0.3, max_leaf_nodes=100; total time=   2.3s\n",
      "[CV] END criterion=entropy, max_features=0.3, max_leaf_nodes=100; total time=   2.2s\n",
      "[CV] END criterion=entropy, max_features=0.3, max_leaf_nodes=500; total time=   2.4s\n",
      "[CV] END criterion=entropy, max_features=0.3, max_leaf_nodes=500; total time=   2.6s\n",
      "[CV] END criterion=entropy, max_features=0.3, max_leaf_nodes=500; total time=   2.7s\n",
      "[CV] END criterion=entropy, max_features=0.3, max_leaf_nodes=500; total time=   3.5s\n",
      "[CV] END criterion=entropy, max_features=0.3, max_leaf_nodes=500; total time=   3.9s\n",
      "[CV] END criterion=entropy, max_features=0.3, max_leaf_nodes=50; total time=   3.0s\n",
      "[CV] END criterion=entropy, max_features=0.3, max_leaf_nodes=50; total time=   2.7s\n",
      "[CV] END criterion=entropy, max_features=0.3, max_leaf_nodes=50; total time=   2.2s\n",
      "[CV] END criterion=entropy, max_features=0.3, max_leaf_nodes=50; total time=   2.3s\n",
      "[CV] END criterion=entropy, max_features=0.3, max_leaf_nodes=50; total time=   2.1s\n",
      "[CV] END criterion=entropy, max_features=0.5, max_leaf_nodes=100; total time=   4.0s\n",
      "[CV] END criterion=entropy, max_features=0.5, max_leaf_nodes=100; total time=   3.8s\n",
      "[CV] END criterion=entropy, max_features=0.5, max_leaf_nodes=100; total time=   3.8s\n",
      "[CV] END criterion=entropy, max_features=0.5, max_leaf_nodes=100; total time=   4.1s\n",
      "[CV] END criterion=entropy, max_features=0.5, max_leaf_nodes=100; total time=   3.9s\n",
      "[CV] END criterion=entropy, max_features=0.5, max_leaf_nodes=500; total time=   4.5s\n",
      "[CV] END criterion=entropy, max_features=0.5, max_leaf_nodes=500; total time=   4.5s\n",
      "[CV] END criterion=entropy, max_features=0.5, max_leaf_nodes=500; total time=   4.6s\n",
      "[CV] END criterion=entropy, max_features=0.5, max_leaf_nodes=500; total time=   4.6s\n",
      "[CV] END criterion=entropy, max_features=0.5, max_leaf_nodes=500; total time=   4.5s\n",
      "[CV] END criterion=entropy, max_features=0.5, max_leaf_nodes=50; total time=   3.4s\n",
      "[CV] END criterion=entropy, max_features=0.5, max_leaf_nodes=50; total time=   3.7s\n",
      "[CV] END criterion=entropy, max_features=0.5, max_leaf_nodes=50; total time=   3.3s\n",
      "[CV] END criterion=entropy, max_features=0.5, max_leaf_nodes=50; total time=   3.4s\n"
     ]
    },
    {
     "name": "stdout",
     "output_type": "stream",
     "text": [
      "[CV] END criterion=entropy, max_features=0.5, max_leaf_nodes=50; total time=   3.4s\n",
      "[CV] END criterion=entropy, max_features=0.7, max_leaf_nodes=100; total time=   5.4s\n",
      "[CV] END criterion=entropy, max_features=0.7, max_leaf_nodes=100; total time=   5.5s\n",
      "[CV] END criterion=entropy, max_features=0.7, max_leaf_nodes=100; total time=   5.3s\n",
      "[CV] END criterion=entropy, max_features=0.7, max_leaf_nodes=100; total time=   5.6s\n",
      "[CV] END criterion=entropy, max_features=0.7, max_leaf_nodes=100; total time=   5.4s\n",
      "[CV] END criterion=entropy, max_features=0.7, max_leaf_nodes=500; total time=   6.1s\n",
      "[CV] END criterion=entropy, max_features=0.7, max_leaf_nodes=500; total time=   6.1s\n",
      "[CV] END criterion=entropy, max_features=0.7, max_leaf_nodes=500; total time=   6.1s\n",
      "[CV] END criterion=entropy, max_features=0.7, max_leaf_nodes=500; total time=   6.2s\n",
      "[CV] END criterion=entropy, max_features=0.7, max_leaf_nodes=500; total time=   6.3s\n",
      "[CV] END criterion=entropy, max_features=0.7, max_leaf_nodes=50; total time=   4.5s\n",
      "[CV] END criterion=entropy, max_features=0.7, max_leaf_nodes=50; total time=   4.7s\n",
      "[CV] END criterion=entropy, max_features=0.7, max_leaf_nodes=50; total time=   4.7s\n",
      "[CV] END criterion=entropy, max_features=0.7, max_leaf_nodes=50; total time=   4.6s\n",
      "[CV] END criterion=entropy, max_features=0.7, max_leaf_nodes=50; total time=   4.5s\n",
      "[CV] END criterion=entropy, max_features=0.9, max_leaf_nodes=100; total time=   6.7s\n",
      "[CV] END criterion=entropy, max_features=0.9, max_leaf_nodes=100; total time=   6.8s\n",
      "[CV] END criterion=entropy, max_features=0.9, max_leaf_nodes=100; total time=   6.8s\n",
      "[CV] END criterion=entropy, max_features=0.9, max_leaf_nodes=100; total time=   6.6s\n",
      "[CV] END criterion=entropy, max_features=0.9, max_leaf_nodes=100; total time=   6.8s\n",
      "[CV] END criterion=entropy, max_features=0.9, max_leaf_nodes=500; total time=   7.7s\n",
      "[CV] END criterion=entropy, max_features=0.9, max_leaf_nodes=500; total time=   7.6s\n",
      "[CV] END criterion=entropy, max_features=0.9, max_leaf_nodes=500; total time=   7.7s\n",
      "[CV] END criterion=entropy, max_features=0.9, max_leaf_nodes=500; total time=   7.6s\n",
      "[CV] END criterion=entropy, max_features=0.9, max_leaf_nodes=500; total time=   7.4s\n",
      "[CV] END criterion=entropy, max_features=0.9, max_leaf_nodes=50; total time=   5.5s\n",
      "[CV] END criterion=entropy, max_features=0.9, max_leaf_nodes=50; total time=   5.4s\n",
      "[CV] END criterion=entropy, max_features=0.9, max_leaf_nodes=50; total time=   5.6s\n",
      "[CV] END criterion=entropy, max_features=0.9, max_leaf_nodes=50; total time=   5.6s\n",
      "[CV] END criterion=entropy, max_features=0.9, max_leaf_nodes=50; total time=   5.6s\n"
     ]
    },
    {
     "name": "stderr",
     "output_type": "stream",
     "text": [
      "C:\\Users\\17738\\anaconda3\\lib\\site-packages\\sklearn\\model_selection\\_validation.py:372: FitFailedWarning: \n",
      "75 fits failed out of a total of 150.\n",
      "The score on these train-test partitions for these parameters will be set to nan.\n",
      "If these failures are not expected, you can try to debug them by setting error_score='raise'.\n",
      "\n",
      "Below are more details about the failures:\n",
      "--------------------------------------------------------------------------------\n",
      "75 fits failed with the following error:\n",
      "Traceback (most recent call last):\n",
      "  File \"C:\\Users\\17738\\anaconda3\\lib\\site-packages\\sklearn\\model_selection\\_validation.py\", line 680, in _fit_and_score\n",
      "    estimator.fit(X_train, y_train, **fit_params)\n",
      "  File \"C:\\Users\\17738\\anaconda3\\lib\\site-packages\\sklearn\\tree\\_classes.py\", line 937, in fit\n",
      "    super().fit(\n",
      "  File \"C:\\Users\\17738\\anaconda3\\lib\\site-packages\\sklearn\\tree\\_classes.py\", line 352, in fit\n",
      "    criterion = CRITERIA_CLF[self.criterion](\n",
      "KeyError: 'gin'\n",
      "\n",
      "  warnings.warn(some_fits_failed_message, FitFailedWarning)\n",
      "C:\\Users\\17738\\anaconda3\\lib\\site-packages\\sklearn\\model_selection\\_search.py:969: UserWarning: One or more of the test scores are non-finite: [       nan        nan        nan        nan        nan        nan\n",
      "        nan        nan        nan        nan        nan        nan\n",
      "        nan        nan        nan 0.68610728 0.69422703 0.67869643\n",
      " 0.70374736 0.704904   0.7013144  0.70734802 0.70724866 0.70340711\n",
      " 0.70810873 0.70840888 0.70404994 0.70848631 0.70822238 0.70440147]\n",
      "  warnings.warn(\n"
     ]
    },
    {
     "name": "stdout",
     "output_type": "stream",
     "text": [
      "Fitting 5 folds for each of 4 candidates, totalling 20 fits\n",
      "[CV] END ..........................class_weight={0: 1, 1: 1}; total time=   8.2s\n",
      "[CV] END ..........................class_weight={0: 1, 1: 1}; total time=   8.2s\n",
      "[CV] END ..........................class_weight={0: 1, 1: 1}; total time=   8.2s\n",
      "[CV] END ..........................class_weight={0: 1, 1: 1}; total time=   8.9s\n",
      "[CV] END ..........................class_weight={0: 1, 1: 1}; total time=   8.5s\n",
      "[CV] END ..........................class_weight={0: 2, 1: 1}; total time=   8.6s\n",
      "[CV] END ..........................class_weight={0: 2, 1: 1}; total time=   8.3s\n",
      "[CV] END ..........................class_weight={0: 2, 1: 1}; total time=   8.2s\n",
      "[CV] END ..........................class_weight={0: 2, 1: 1}; total time=   8.1s\n",
      "[CV] END ..........................class_weight={0: 2, 1: 1}; total time=   8.2s\n",
      "[CV] END ..........................class_weight={0: 3, 1: 1}; total time=   8.2s\n",
      "[CV] END ..........................class_weight={0: 3, 1: 1}; total time=   8.0s\n",
      "[CV] END ..........................class_weight={0: 3, 1: 1}; total time=   8.2s\n",
      "[CV] END ..........................class_weight={0: 3, 1: 1}; total time=   8.1s\n",
      "[CV] END ..........................class_weight={0: 3, 1: 1}; total time=   8.1s\n",
      "[CV] END ..........................class_weight={0: 4, 1: 1}; total time=   8.2s\n",
      "[CV] END ..........................class_weight={0: 4, 1: 1}; total time=   8.3s\n",
      "[CV] END ..........................class_weight={0: 4, 1: 1}; total time=   8.3s\n",
      "[CV] END ..........................class_weight={0: 4, 1: 1}; total time=   8.2s\n",
      "[CV] END ..........................class_weight={0: 4, 1: 1}; total time=   8.2s\n"
     ]
    }
   ],
   "source": [
    "best_params = {}\n",
    "clf_dt = tree.DecisionTreeClassifier()\n",
    "for each in [params_state1,params_state2,params_state3]:\n",
    "    clf_dt_mid = GridSearchCV(estimator=clf_dt, param_grid=each, scoring='roc_auc', cv=5,verbose=2)\n",
    "    clf_dt_mid.fit(train_features,train_target)\n",
    "    best_params.update(clf_dt_mid.best_params_)\n",
    "    clf_dt = tree.DecisionTreeClassifier(**best_params)\n",
    "#模型训练\n",
    "clf_dt.fit(train_features,train_target)"
   ]
  },
  {
   "cell_type": "code",
   "execution_count": 18,
   "id": "cef8ae9a",
   "metadata": {},
   "outputs": [
    {
     "data": {
      "text/plain": [
       "{'ccp_alpha': 0.0,\n",
       " 'class_weight': {0: 4, 1: 1},\n",
       " 'criterion': 'entropy',\n",
       " 'max_depth': 9,\n",
       " 'max_features': 0.9,\n",
       " 'max_leaf_nodes': 100,\n",
       " 'min_impurity_decrease': 0.0,\n",
       " 'min_samples_leaf': 1,\n",
       " 'min_samples_split': 82,\n",
       " 'min_weight_fraction_leaf': 0.0,\n",
       " 'random_state': None,\n",
       " 'splitter': 'best'}"
      ]
     },
     "execution_count": 18,
     "metadata": {},
     "output_type": "execute_result"
    }
   ],
   "source": [
    "#打印模型最优的参数与分数\n",
    "# print(clf_dt.best_params_)\n",
    "# print(clf_dt.best_score_)\n",
    "clf_dt.get_params()"
   ]
  },
  {
   "cell_type": "code",
   "execution_count": 20,
   "id": "2d19e1ae",
   "metadata": {},
   "outputs": [
    {
     "name": "stdout",
     "output_type": "stream",
     "text": [
      "决策树模型最终在测试集上的auc为： 0.7088282541775917\n"
     ]
    }
   ],
   "source": [
    "#输出模型最终在测试集上的表现\n",
    "clf_dt_auc = auc_score_fig(clf_dt,test_features,test_target)\n",
    "print(\"决策树模型最终在测试集上的auc为：\",clf_dt_auc)"
   ]
  },
  {
   "cell_type": "code",
   "execution_count": 21,
   "id": "18438775",
   "metadata": {},
   "outputs": [
    {
     "data": {
      "text/plain": [
       "['C:\\\\Users\\\\17738\\\\贷款违约率预测\\\\模型存储\\\\决策树_风控模型.pkl']"
      ]
     },
     "execution_count": 21,
     "metadata": {},
     "output_type": "execute_result"
    }
   ],
   "source": [
    "#模型保存\n",
    "joblib.dump(clf_dt, r'C:\\Users\\17738\\贷款违约率预测\\模型存储\\决策树_风控模型.pkl')"
   ]
  },
  {
   "cell_type": "markdown",
   "id": "6b2d74bb",
   "metadata": {},
   "source": [
    "# 随机森林"
   ]
  },
  {
   "cell_type": "code",
   "execution_count": 26,
   "id": "b7564578",
   "metadata": {},
   "outputs": [],
   "source": [
    "# n_estimators: 树的个数,典型范围100-500\n",
    "# max_depth: 树的最大深度,典型范围10-100\n",
    "# min_samples_split: 分割节点的最小样本数,典型范围2-20\n",
    "# min_samples_leaf: 叶子节点的最小样本数,典型范围1-10\n",
    "# max_features:划分时考虑的最大特征数量,一般取所有特征的50% - 100%\n",
    "# bootstrap:是否使用放回采样,通常设为True"
   ]
  },
  {
   "cell_type": "code",
   "execution_count": 27,
   "id": "0a0bb1db",
   "metadata": {},
   "outputs": [],
   "source": [
    "n_estimators =[i for i in range(100,500,200)]\n",
    "max_depth = [i for i in range(10,100,40)] \n",
    "min_samples_split = [i for i in range(2,20,8)] \n",
    "min_samples_leaf = [i for i in range(1,10,3)] \n",
    "max_features = [i/10 for i in range(5,10,2)] "
   ]
  },
  {
   "cell_type": "code",
   "execution_count": 28,
   "id": "1eac4ef3",
   "metadata": {},
   "outputs": [],
   "source": [
    "params_state1 = {\"n_estimators\":n_estimators,\"max_depth\":max_depth}\n",
    "params_state2 = {\"min_samples_split\":min_samples_split,\"min_samples_leaf\":min_samples_leaf}\n",
    "params_state3 = {\"max_features\":max_features}"
   ]
  },
  {
   "cell_type": "code",
   "execution_count": null,
   "id": "944c309b",
   "metadata": {},
   "outputs": [
    {
     "name": "stdout",
     "output_type": "stream",
     "text": [
      "Fitting 5 folds for each of 6 candidates, totalling 30 fits\n"
     ]
    },
    {
     "name": "stderr",
     "output_type": "stream",
     "text": [
      "C:\\Users\\17738\\anaconda3\\lib\\site-packages\\sklearn\\model_selection\\_validation.py:680: DataConversionWarning: A column-vector y was passed when a 1d array was expected. Please change the shape of y to (n_samples,), for example using ravel().\n",
      "  estimator.fit(X_train, y_train, **fit_params)\n"
     ]
    },
    {
     "name": "stdout",
     "output_type": "stream",
     "text": [
      "[CV] END .....................max_depth=10, n_estimators=100; total time= 1.7min\n"
     ]
    },
    {
     "name": "stderr",
     "output_type": "stream",
     "text": [
      "C:\\Users\\17738\\anaconda3\\lib\\site-packages\\sklearn\\model_selection\\_validation.py:680: DataConversionWarning: A column-vector y was passed when a 1d array was expected. Please change the shape of y to (n_samples,), for example using ravel().\n",
      "  estimator.fit(X_train, y_train, **fit_params)\n"
     ]
    },
    {
     "name": "stdout",
     "output_type": "stream",
     "text": [
      "[CV] END .....................max_depth=10, n_estimators=100; total time= 1.7min\n"
     ]
    },
    {
     "name": "stderr",
     "output_type": "stream",
     "text": [
      "C:\\Users\\17738\\anaconda3\\lib\\site-packages\\sklearn\\model_selection\\_validation.py:680: DataConversionWarning: A column-vector y was passed when a 1d array was expected. Please change the shape of y to (n_samples,), for example using ravel().\n",
      "  estimator.fit(X_train, y_train, **fit_params)\n"
     ]
    },
    {
     "name": "stdout",
     "output_type": "stream",
     "text": [
      "[CV] END .....................max_depth=10, n_estimators=100; total time= 1.7min\n"
     ]
    },
    {
     "name": "stderr",
     "output_type": "stream",
     "text": [
      "C:\\Users\\17738\\anaconda3\\lib\\site-packages\\sklearn\\model_selection\\_validation.py:680: DataConversionWarning: A column-vector y was passed when a 1d array was expected. Please change the shape of y to (n_samples,), for example using ravel().\n",
      "  estimator.fit(X_train, y_train, **fit_params)\n"
     ]
    },
    {
     "name": "stdout",
     "output_type": "stream",
     "text": [
      "[CV] END .....................max_depth=10, n_estimators=100; total time= 1.6min\n"
     ]
    },
    {
     "name": "stderr",
     "output_type": "stream",
     "text": [
      "C:\\Users\\17738\\anaconda3\\lib\\site-packages\\sklearn\\model_selection\\_validation.py:680: DataConversionWarning: A column-vector y was passed when a 1d array was expected. Please change the shape of y to (n_samples,), for example using ravel().\n",
      "  estimator.fit(X_train, y_train, **fit_params)\n"
     ]
    },
    {
     "name": "stdout",
     "output_type": "stream",
     "text": [
      "[CV] END .....................max_depth=10, n_estimators=100; total time= 1.6min\n"
     ]
    },
    {
     "name": "stderr",
     "output_type": "stream",
     "text": [
      "C:\\Users\\17738\\anaconda3\\lib\\site-packages\\sklearn\\model_selection\\_validation.py:680: DataConversionWarning: A column-vector y was passed when a 1d array was expected. Please change the shape of y to (n_samples,), for example using ravel().\n",
      "  estimator.fit(X_train, y_train, **fit_params)\n"
     ]
    },
    {
     "name": "stdout",
     "output_type": "stream",
     "text": [
      "[CV] END .....................max_depth=10, n_estimators=300; total time= 6.6min\n"
     ]
    },
    {
     "name": "stderr",
     "output_type": "stream",
     "text": [
      "C:\\Users\\17738\\anaconda3\\lib\\site-packages\\sklearn\\model_selection\\_validation.py:680: DataConversionWarning: A column-vector y was passed when a 1d array was expected. Please change the shape of y to (n_samples,), for example using ravel().\n",
      "  estimator.fit(X_train, y_train, **fit_params)\n"
     ]
    },
    {
     "name": "stdout",
     "output_type": "stream",
     "text": [
      "[CV] END .....................max_depth=10, n_estimators=300; total time= 5.6min\n"
     ]
    },
    {
     "name": "stderr",
     "output_type": "stream",
     "text": [
      "C:\\Users\\17738\\anaconda3\\lib\\site-packages\\sklearn\\model_selection\\_validation.py:680: DataConversionWarning: A column-vector y was passed when a 1d array was expected. Please change the shape of y to (n_samples,), for example using ravel().\n",
      "  estimator.fit(X_train, y_train, **fit_params)\n"
     ]
    },
    {
     "name": "stdout",
     "output_type": "stream",
     "text": [
      "[CV] END .....................max_depth=10, n_estimators=300; total time= 5.3min\n"
     ]
    },
    {
     "name": "stderr",
     "output_type": "stream",
     "text": [
      "C:\\Users\\17738\\anaconda3\\lib\\site-packages\\sklearn\\model_selection\\_validation.py:680: DataConversionWarning: A column-vector y was passed when a 1d array was expected. Please change the shape of y to (n_samples,), for example using ravel().\n",
      "  estimator.fit(X_train, y_train, **fit_params)\n"
     ]
    },
    {
     "name": "stdout",
     "output_type": "stream",
     "text": [
      "[CV] END .....................max_depth=10, n_estimators=300; total time= 5.3min\n"
     ]
    },
    {
     "name": "stderr",
     "output_type": "stream",
     "text": [
      "C:\\Users\\17738\\anaconda3\\lib\\site-packages\\sklearn\\model_selection\\_validation.py:680: DataConversionWarning: A column-vector y was passed when a 1d array was expected. Please change the shape of y to (n_samples,), for example using ravel().\n",
      "  estimator.fit(X_train, y_train, **fit_params)\n"
     ]
    },
    {
     "name": "stdout",
     "output_type": "stream",
     "text": [
      "[CV] END .....................max_depth=10, n_estimators=300; total time= 5.2min\n"
     ]
    },
    {
     "name": "stderr",
     "output_type": "stream",
     "text": [
      "C:\\Users\\17738\\anaconda3\\lib\\site-packages\\sklearn\\model_selection\\_validation.py:680: DataConversionWarning: A column-vector y was passed when a 1d array was expected. Please change the shape of y to (n_samples,), for example using ravel().\n",
      "  estimator.fit(X_train, y_train, **fit_params)\n"
     ]
    },
    {
     "name": "stdout",
     "output_type": "stream",
     "text": [
      "[CV] END .....................max_depth=50, n_estimators=100; total time= 3.6min\n"
     ]
    },
    {
     "name": "stderr",
     "output_type": "stream",
     "text": [
      "C:\\Users\\17738\\anaconda3\\lib\\site-packages\\sklearn\\model_selection\\_validation.py:680: DataConversionWarning: A column-vector y was passed when a 1d array was expected. Please change the shape of y to (n_samples,), for example using ravel().\n",
      "  estimator.fit(X_train, y_train, **fit_params)\n"
     ]
    },
    {
     "name": "stdout",
     "output_type": "stream",
     "text": [
      "[CV] END .....................max_depth=50, n_estimators=100; total time= 3.6min\n"
     ]
    },
    {
     "name": "stderr",
     "output_type": "stream",
     "text": [
      "C:\\Users\\17738\\anaconda3\\lib\\site-packages\\sklearn\\model_selection\\_validation.py:680: DataConversionWarning: A column-vector y was passed when a 1d array was expected. Please change the shape of y to (n_samples,), for example using ravel().\n",
      "  estimator.fit(X_train, y_train, **fit_params)\n"
     ]
    },
    {
     "name": "stdout",
     "output_type": "stream",
     "text": [
      "[CV] END .....................max_depth=50, n_estimators=100; total time= 3.6min\n"
     ]
    },
    {
     "name": "stderr",
     "output_type": "stream",
     "text": [
      "C:\\Users\\17738\\anaconda3\\lib\\site-packages\\sklearn\\model_selection\\_validation.py:680: DataConversionWarning: A column-vector y was passed when a 1d array was expected. Please change the shape of y to (n_samples,), for example using ravel().\n",
      "  estimator.fit(X_train, y_train, **fit_params)\n"
     ]
    },
    {
     "name": "stdout",
     "output_type": "stream",
     "text": [
      "[CV] END .....................max_depth=50, n_estimators=100; total time= 3.5min\n"
     ]
    },
    {
     "name": "stderr",
     "output_type": "stream",
     "text": [
      "C:\\Users\\17738\\anaconda3\\lib\\site-packages\\sklearn\\model_selection\\_validation.py:680: DataConversionWarning: A column-vector y was passed when a 1d array was expected. Please change the shape of y to (n_samples,), for example using ravel().\n",
      "  estimator.fit(X_train, y_train, **fit_params)\n"
     ]
    },
    {
     "name": "stdout",
     "output_type": "stream",
     "text": [
      "[CV] END .....................max_depth=50, n_estimators=100; total time= 3.5min\n"
     ]
    },
    {
     "name": "stderr",
     "output_type": "stream",
     "text": [
      "C:\\Users\\17738\\anaconda3\\lib\\site-packages\\sklearn\\model_selection\\_validation.py:680: DataConversionWarning: A column-vector y was passed when a 1d array was expected. Please change the shape of y to (n_samples,), for example using ravel().\n",
      "  estimator.fit(X_train, y_train, **fit_params)\n"
     ]
    },
    {
     "name": "stdout",
     "output_type": "stream",
     "text": [
      "[CV] END .....................max_depth=50, n_estimators=300; total time=10.7min\n"
     ]
    },
    {
     "name": "stderr",
     "output_type": "stream",
     "text": [
      "C:\\Users\\17738\\anaconda3\\lib\\site-packages\\sklearn\\model_selection\\_validation.py:680: DataConversionWarning: A column-vector y was passed when a 1d array was expected. Please change the shape of y to (n_samples,), for example using ravel().\n",
      "  estimator.fit(X_train, y_train, **fit_params)\n"
     ]
    },
    {
     "name": "stdout",
     "output_type": "stream",
     "text": [
      "[CV] END .....................max_depth=50, n_estimators=300; total time=12.9min\n"
     ]
    },
    {
     "name": "stderr",
     "output_type": "stream",
     "text": [
      "C:\\Users\\17738\\anaconda3\\lib\\site-packages\\sklearn\\model_selection\\_validation.py:680: DataConversionWarning: A column-vector y was passed when a 1d array was expected. Please change the shape of y to (n_samples,), for example using ravel().\n",
      "  estimator.fit(X_train, y_train, **fit_params)\n"
     ]
    },
    {
     "name": "stdout",
     "output_type": "stream",
     "text": [
      "[CV] END .....................max_depth=50, n_estimators=300; total time=11.5min\n"
     ]
    },
    {
     "name": "stderr",
     "output_type": "stream",
     "text": [
      "C:\\Users\\17738\\anaconda3\\lib\\site-packages\\sklearn\\model_selection\\_validation.py:680: DataConversionWarning: A column-vector y was passed when a 1d array was expected. Please change the shape of y to (n_samples,), for example using ravel().\n",
      "  estimator.fit(X_train, y_train, **fit_params)\n"
     ]
    },
    {
     "name": "stdout",
     "output_type": "stream",
     "text": [
      "[CV] END .....................max_depth=50, n_estimators=300; total time=11.2min\n"
     ]
    },
    {
     "name": "stderr",
     "output_type": "stream",
     "text": [
      "C:\\Users\\17738\\anaconda3\\lib\\site-packages\\sklearn\\model_selection\\_validation.py:680: DataConversionWarning: A column-vector y was passed when a 1d array was expected. Please change the shape of y to (n_samples,), for example using ravel().\n",
      "  estimator.fit(X_train, y_train, **fit_params)\n"
     ]
    },
    {
     "name": "stdout",
     "output_type": "stream",
     "text": [
      "[CV] END .....................max_depth=50, n_estimators=300; total time=10.7min\n"
     ]
    },
    {
     "name": "stderr",
     "output_type": "stream",
     "text": [
      "C:\\Users\\17738\\anaconda3\\lib\\site-packages\\sklearn\\model_selection\\_validation.py:680: DataConversionWarning: A column-vector y was passed when a 1d array was expected. Please change the shape of y to (n_samples,), for example using ravel().\n",
      "  estimator.fit(X_train, y_train, **fit_params)\n"
     ]
    },
    {
     "name": "stdout",
     "output_type": "stream",
     "text": [
      "[CV] END .....................max_depth=90, n_estimators=100; total time= 3.6min\n"
     ]
    },
    {
     "name": "stderr",
     "output_type": "stream",
     "text": [
      "C:\\Users\\17738\\anaconda3\\lib\\site-packages\\sklearn\\model_selection\\_validation.py:680: DataConversionWarning: A column-vector y was passed when a 1d array was expected. Please change the shape of y to (n_samples,), for example using ravel().\n",
      "  estimator.fit(X_train, y_train, **fit_params)\n"
     ]
    },
    {
     "name": "stdout",
     "output_type": "stream",
     "text": [
      "[CV] END .....................max_depth=90, n_estimators=100; total time= 3.7min\n"
     ]
    },
    {
     "name": "stderr",
     "output_type": "stream",
     "text": [
      "C:\\Users\\17738\\anaconda3\\lib\\site-packages\\sklearn\\model_selection\\_validation.py:680: DataConversionWarning: A column-vector y was passed when a 1d array was expected. Please change the shape of y to (n_samples,), for example using ravel().\n",
      "  estimator.fit(X_train, y_train, **fit_params)\n"
     ]
    },
    {
     "name": "stdout",
     "output_type": "stream",
     "text": [
      "[CV] END .....................max_depth=90, n_estimators=100; total time= 3.6min\n"
     ]
    },
    {
     "name": "stderr",
     "output_type": "stream",
     "text": [
      "C:\\Users\\17738\\anaconda3\\lib\\site-packages\\sklearn\\model_selection\\_validation.py:680: DataConversionWarning: A column-vector y was passed when a 1d array was expected. Please change the shape of y to (n_samples,), for example using ravel().\n",
      "  estimator.fit(X_train, y_train, **fit_params)\n"
     ]
    },
    {
     "name": "stdout",
     "output_type": "stream",
     "text": [
      "[CV] END .....................max_depth=90, n_estimators=100; total time= 3.6min\n"
     ]
    },
    {
     "name": "stderr",
     "output_type": "stream",
     "text": [
      "C:\\Users\\17738\\anaconda3\\lib\\site-packages\\sklearn\\model_selection\\_validation.py:680: DataConversionWarning: A column-vector y was passed when a 1d array was expected. Please change the shape of y to (n_samples,), for example using ravel().\n",
      "  estimator.fit(X_train, y_train, **fit_params)\n"
     ]
    },
    {
     "name": "stdout",
     "output_type": "stream",
     "text": [
      "[CV] END .....................max_depth=90, n_estimators=100; total time= 3.6min\n"
     ]
    },
    {
     "name": "stderr",
     "output_type": "stream",
     "text": [
      "C:\\Users\\17738\\anaconda3\\lib\\site-packages\\sklearn\\model_selection\\_validation.py:680: DataConversionWarning: A column-vector y was passed when a 1d array was expected. Please change the shape of y to (n_samples,), for example using ravel().\n",
      "  estimator.fit(X_train, y_train, **fit_params)\n"
     ]
    },
    {
     "name": "stdout",
     "output_type": "stream",
     "text": [
      "[CV] END .....................max_depth=90, n_estimators=300; total time=10.6min\n"
     ]
    },
    {
     "name": "stderr",
     "output_type": "stream",
     "text": [
      "C:\\Users\\17738\\anaconda3\\lib\\site-packages\\sklearn\\model_selection\\_validation.py:680: DataConversionWarning: A column-vector y was passed when a 1d array was expected. Please change the shape of y to (n_samples,), for example using ravel().\n",
      "  estimator.fit(X_train, y_train, **fit_params)\n"
     ]
    },
    {
     "name": "stdout",
     "output_type": "stream",
     "text": [
      "[CV] END .....................max_depth=90, n_estimators=300; total time=10.6min\n"
     ]
    },
    {
     "name": "stderr",
     "output_type": "stream",
     "text": [
      "C:\\Users\\17738\\anaconda3\\lib\\site-packages\\sklearn\\model_selection\\_validation.py:680: DataConversionWarning: A column-vector y was passed when a 1d array was expected. Please change the shape of y to (n_samples,), for example using ravel().\n",
      "  estimator.fit(X_train, y_train, **fit_params)\n"
     ]
    }
   ],
   "source": [
    "best_params = {}\n",
    "clf_rf = RandomForestClassifier()\n",
    "for each in [params_state1,params_state2,params_state3]:\n",
    "    clf_rf_mid = GridSearchCV(estimator=clf_rf, param_grid=each, scoring='roc_auc', cv=5,verbose=2)\n",
    "    clf_rf_mid.fit(train_features,train_target)\n",
    "    best_params.update(clf_rf_mid.best_params_)\n",
    "    clf_rf = tree.DecisionTreeClassifier(**best_params)\n",
    "#模型训练\n",
    "clf_rf.fit(train_features,train_target)"
   ]
  },
  {
   "cell_type": "code",
   "execution_count": null,
   "id": "24f5fcf8",
   "metadata": {},
   "outputs": [],
   "source": [
    "clf_rf.get_params()"
   ]
  },
  {
   "cell_type": "code",
   "execution_count": null,
   "id": "11ca7497",
   "metadata": {},
   "outputs": [],
   "source": [
    "#输出模型最终在测试集上的表现\n",
    "clf_rf_auc = auc_score_fig(clf_rf,test_features,test_target)\n",
    "print(\"决策树模型最终在测试集上的auc为：\",clf_rf_auc)"
   ]
  },
  {
   "cell_type": "code",
   "execution_count": null,
   "id": "1ddf0c00",
   "metadata": {},
   "outputs": [],
   "source": [
    "#模型保存\n",
    "joblib.dump(clf_rf, r'C:\\Users\\17738\\贷款违约率预测\\模型存储\\随机森林_风控模型.pkl')"
   ]
  },
  {
   "cell_type": "markdown",
   "id": "d8dcbae1",
   "metadata": {},
   "source": [
    "# XGBOOST"
   ]
  },
  {
   "cell_type": "code",
   "execution_count": null,
   "id": "a6eeff61",
   "metadata": {},
   "outputs": [],
   "source": [
    "n_estimators_list=[i for i in range(1,121,40)]   \n",
    "learning_rate_list=[i/100 for i in range(1,42,5)]  \n",
    "max_depth_list=[i for i in range(3,11,4)]\n",
    "max_delta_step_list=[i for i in range(1,11,4)]  \n",
    "min_child_weight_list=[i for i in range(1,13,4)]\n",
    "gamma_list=[i/10 for i in range(1,11,4)]\n",
    "subsample_list=[i/10 for i in range(5,11,4)]\n",
    "colsample_bytree_list=[i/10 for i in range(5,11,4)]\n",
    "scale_pos_weight_list=[i/10 for i in range(5,42,15)]   \n",
    "reg_alpha_list=[0, 0.001, 0.005, 0.01,0.05, 0.1, 1, 2, 3]\n",
    "reg_lambda_list=[0, 0.001, 0.005, 0.01,0.05, 0.1, 1, 2, 3]"
   ]
  },
  {
   "cell_type": "code",
   "execution_count": null,
   "id": "e319d7e2",
   "metadata": {},
   "outputs": [],
   "source": [
    "params_state1 = {'n_estimators': n_estimators_list,'learning_rate':learning_rate_list,'objective':['binary:logistic']}\n",
    "params_state2 = {'scale_pos_weight': scale_pos_weight_list,'max_delta_step':max_delta_step_list}\n",
    "params_state3 = {'max_depth':max_depth_list,'min_child_weight':min_child_weight_list,'gamma':gamma_list}\n",
    "params_state4 = {'subsample':subsample_list,'colsample_bytree':colsample_bytree_list}\n",
    "params_state5 = {'reg_alpha':reg_alpha_list,'reg_lambda':reg_lambda_list}"
   ]
  },
  {
   "cell_type": "code",
   "execution_count": null,
   "id": "1461c668",
   "metadata": {},
   "outputs": [],
   "source": [
    "best_params = {}\n",
    "clf_xgb = XGBClassifier()\n",
    "for each in [params_state1,params_state2,params_state3]:\n",
    "    clf_xgb_mid = GridSearchCV(estimator=clf_xgb, param_grid=each, scoring='roc_auc', cv=5,verbose=2)\n",
    "    clf_xgb_mid.fit(train_features,train_target)\n",
    "    best_params.update(clf_xgb_mid.best_params_)\n",
    "    clf_xgb = tree.DecisionTreeClassifier(**best_params)\n",
    "#模型训练\n",
    "clf_xgb.fit(train_features,train_target)"
   ]
  },
  {
   "cell_type": "code",
   "execution_count": null,
   "id": "99ea796b",
   "metadata": {},
   "outputs": [],
   "source": [
    "clf_xgb.get_params()"
   ]
  },
  {
   "cell_type": "code",
   "execution_count": null,
   "id": "ca56d18f",
   "metadata": {},
   "outputs": [],
   "source": [
    "#输出模型最终在测试集上的表现\n",
    "clf_xgb_auc = auc_score_fig(clf_xgb,test_features,test_target)\n",
    "print(\"决策树模型最终在测试集上的auc为：\",clf_xgb_auc)"
   ]
  },
  {
   "cell_type": "code",
   "execution_count": null,
   "id": "e1c9461a",
   "metadata": {},
   "outputs": [],
   "source": [
    "#模型保存\n",
    "joblib.dump(clf_xgb, r'C:\\Users\\17738\\贷款违约率预测\\模型存储\\随XGB_风控模型.pkl')"
   ]
  },
  {
   "cell_type": "code",
   "execution_count": null,
   "id": "552dedd8",
   "metadata": {},
   "outputs": [],
   "source": [
    "#项目代码仅为展现本人在数据挖掘方面的技能。因时间与算力有限，当前内容仅完成模型搭建的核心环节，后期会逐步完善以下内容：\n",
    "1.特征衍生：\n",
    "    时序特征衍生：依据生活规律对时序特征进行拓展衍生\n",
    "    特征交叉衍生：将相关特征利用常用统计函数/线性组合等方式进行交叉组合衍生；\n",
    "    经验衍生：依据业务经验，重新构造一些可解释行的特征；\n",
    "2.调参优化：\n",
    "    尝试使用随机调参与贝叶斯调参进行参数组合的探索；\n",
    "3.模型融合：\n",
    "    尝试使用平均法与投票法进行模型融合；\n",
    "4.AB测试模块编写：\n",
    "    编写AB小样本检验逻辑，测试不同模型的实际执行效果；"
   ]
  },
  {
   "cell_type": "code",
   "execution_count": null,
   "id": "eaf39064",
   "metadata": {},
   "outputs": [],
   "source": []
  }
 ],
 "metadata": {
  "kernelspec": {
   "display_name": "Python 3 (ipykernel)",
   "language": "python",
   "name": "python3"
  },
  "language_info": {
   "codemirror_mode": {
    "name": "ipython",
    "version": 3
   },
   "file_extension": ".py",
   "mimetype": "text/x-python",
   "name": "python",
   "nbconvert_exporter": "python",
   "pygments_lexer": "ipython3",
   "version": "3.9.12"
  }
 },
 "nbformat": 4,
 "nbformat_minor": 5
}
