{
 "cells": [
  {
   "cell_type": "markdown",
   "id": "25b217fa",
   "metadata": {},
   "source": [
    "# 模型搭建通常包括以下内容：\n",
    "\n",
    "## 1.模型选择；（确定模型框架）\n",
    "\n",
    "## 2.模型调参优化；（确定恰当的模型超参数）\n",
    "\n",
    "## 3.模型评估；（确定模型最终的拟合效果）\n",
    "\n",
    "## 4.模型评分区间转化；（将模型输出值进行分值区间的映射）\n",
    "\n",
    "## 5.模型迭代（依据实际运行结果进行周期性的迭代）\n"
   ]
  },
  {
   "cell_type": "code",
   "execution_count": 15,
   "id": "d37b8f6d",
   "metadata": {},
   "outputs": [],
   "source": [
    "import pandas as pd\n",
    "from sklearn.model_selection import train_test_split\n",
    "from sklearn.ensemble import RandomForestClassifier\n",
    "from sklearn import tree  \n",
    "import xgboost as xgb\n",
    "from xgboost import XGBClassifier\n",
    "from sklearn.model_selection import GridSearchCV \n",
    "from sklearn.metrics import roc_auc_score\n",
    "import joblib\n",
    "import matplotlib.pyplot as plt\n",
    "from sklearn.metrics import recall_score\n",
    "from sklearn.metrics import accuracy_score\n",
    "from sklearn.metrics import roc_auc_score, roc_curve\n",
    "import numpy as np"
   ]
  },
  {
   "cell_type": "code",
   "execution_count": 2,
   "id": "6dd319e7",
   "metadata": {},
   "outputs": [],
   "source": [
    "def auc_score_fig(clf,x,y_test):  #计算auc，三参数分别为分类器，特征与标签\n",
    "    y_probs = clf.predict_proba(x)\n",
    "    y_probs = y_probs[:,1]\n",
    "    auc = roc_auc_score(y_test, y_probs)\n",
    "    return auc"
   ]
  },
  {
   "cell_type": "markdown",
   "id": "996503ef",
   "metadata": {},
   "source": [
    "评估函数主要包含三部分：\n",
    "\n",
    "1.AUC计算；（模型排序能力）\n",
    "\n",
    "2.KS计算；（模型区分能力）\n",
    "\n",
    "3.roc曲线绘制；（用于了解模型的整体质量，并可协助确定临界阈值）\n",
    "\n",
    "3.样本基于时间稳定性的检验"
   ]
  },
  {
   "cell_type": "code",
   "execution_count": 3,
   "id": "36c2239c",
   "metadata": {},
   "outputs": [],
   "source": [
    "def Model_evaluation(test_features,clf,test_target):\n",
    "    #输出预测值\n",
    "    y_pred = clf.predict_proba(test_features)[:,1]\n",
    "        \n",
    "    # 计算AUC和KS\n",
    "    # KS计算\n",
    "    fpr, tpr, _ = roc_curve(test_target, y_pred)\n",
    "    ks = max(tpr - fpr)\n",
    "    print(\"决策树模型最终在测试集上的KS为：\",ks)\n",
    "\n",
    "    #auc计算\n",
    "    clf_auc = auc_score_fig(clf,test_features,test_target)\n",
    "    print(\"决策树模型最终在测试集上的auc为：\",clf_auc)\n",
    "\n",
    "    # 绘制ROC曲线  \n",
    "    plt.plot(fpr, tpr)\n",
    "    plt.xlabel('False Positive Rate')\n",
    "    plt.ylabel('True Positive Rate')\n",
    "    plt.title('ROC')\n",
    "    plt.show()    \n",
    "    \n",
    "    \n",
    "    # 评估不同区间，不同时间违约率，评估时间维度的稳定性（类似PSI的方式）\n",
    "    y_pred = clf.predict_proba(test_features)[:,1]\n",
    "    df_mid = test_features.copy()\n",
    "    df_mid[\"years_bucket\"] = pd.qcut(df_test['issueDate'], 10)\n",
    "    df_mid[\"pred\"] = y_pred\n",
    "    df_mid[\"result\"] = test_target\n",
    "    df_mid[\"pred_bucket\"] = pd.cut(df_mid['pred'], bins = [-0.1,0.1,0.2,0.3,0.4,0.5,0.6,0.7,0.8,0.9,1])\n",
    "    print(df_mid.groupby([\"years_bucket\",\"pred_bucket\"]).result.mean().head(30))"
   ]
  },
  {
   "cell_type": "code",
   "execution_count": 4,
   "id": "2ec23a0e",
   "metadata": {},
   "outputs": [],
   "source": [
    "#读取数据\n",
    "df_train = pd.read_csv(r\"C:\\Users\\17738\\贷款违约率预测\\数据集\\train_clean.csv\")\n",
    "df_test = pd.read_csv(r\"C:\\Users\\17738\\贷款违约率预测\\数据集\\test_clean.csv\")"
   ]
  },
  {
   "cell_type": "markdown",
   "id": "5735812d",
   "metadata": {},
   "source": [
    "在训练数据中单独划分一个验证集用来评估模型的效果"
   ]
  },
  {
   "cell_type": "code",
   "execution_count": 5,
   "id": "2beb0146",
   "metadata": {},
   "outputs": [],
   "source": [
    "train_data, test_data = train_test_split(df_train, test_size=0.2, random_state=1)   "
   ]
  },
  {
   "cell_type": "code",
   "execution_count": 6,
   "id": "0f2f0eed",
   "metadata": {},
   "outputs": [
    {
     "data": {
      "text/html": [
       "<div>\n",
       "<style scoped>\n",
       "    .dataframe tbody tr th:only-of-type {\n",
       "        vertical-align: middle;\n",
       "    }\n",
       "\n",
       "    .dataframe tbody tr th {\n",
       "        vertical-align: top;\n",
       "    }\n",
       "\n",
       "    .dataframe thead th {\n",
       "        text-align: right;\n",
       "    }\n",
       "</style>\n",
       "<table border=\"1\" class=\"dataframe\">\n",
       "  <thead>\n",
       "    <tr style=\"text-align: right;\">\n",
       "      <th></th>\n",
       "      <th>id</th>\n",
       "      <th>loanAmnt</th>\n",
       "      <th>term</th>\n",
       "      <th>interestRate</th>\n",
       "      <th>installment</th>\n",
       "      <th>grade</th>\n",
       "      <th>subGrade</th>\n",
       "      <th>employmentTitle</th>\n",
       "      <th>employmentLength</th>\n",
       "      <th>homeOwnership</th>\n",
       "      <th>...</th>\n",
       "      <th>n_der126</th>\n",
       "      <th>n_der127</th>\n",
       "      <th>n_der128</th>\n",
       "      <th>n_der129</th>\n",
       "      <th>n_der130</th>\n",
       "      <th>n_der131</th>\n",
       "      <th>n_der132</th>\n",
       "      <th>n_der133</th>\n",
       "      <th>n_der134</th>\n",
       "      <th>n_der135</th>\n",
       "    </tr>\n",
       "    <tr>\n",
       "      <th>isDefault</th>\n",
       "      <th></th>\n",
       "      <th></th>\n",
       "      <th></th>\n",
       "      <th></th>\n",
       "      <th></th>\n",
       "      <th></th>\n",
       "      <th></th>\n",
       "      <th></th>\n",
       "      <th></th>\n",
       "      <th></th>\n",
       "      <th></th>\n",
       "      <th></th>\n",
       "      <th></th>\n",
       "      <th></th>\n",
       "      <th></th>\n",
       "      <th></th>\n",
       "      <th></th>\n",
       "      <th></th>\n",
       "      <th></th>\n",
       "      <th></th>\n",
       "      <th></th>\n",
       "    </tr>\n",
       "  </thead>\n",
       "  <tbody>\n",
       "    <tr>\n",
       "      <th>0</th>\n",
       "      <td>512351</td>\n",
       "      <td>512351</td>\n",
       "      <td>512351</td>\n",
       "      <td>512351</td>\n",
       "      <td>512351</td>\n",
       "      <td>512351</td>\n",
       "      <td>512351</td>\n",
       "      <td>512351</td>\n",
       "      <td>512351</td>\n",
       "      <td>512351</td>\n",
       "      <td>...</td>\n",
       "      <td>512351</td>\n",
       "      <td>512351</td>\n",
       "      <td>512351</td>\n",
       "      <td>512351</td>\n",
       "      <td>512351</td>\n",
       "      <td>512351</td>\n",
       "      <td>512351</td>\n",
       "      <td>512351</td>\n",
       "      <td>512351</td>\n",
       "      <td>512351</td>\n",
       "    </tr>\n",
       "    <tr>\n",
       "      <th>1</th>\n",
       "      <td>127649</td>\n",
       "      <td>127649</td>\n",
       "      <td>127649</td>\n",
       "      <td>127649</td>\n",
       "      <td>127649</td>\n",
       "      <td>127649</td>\n",
       "      <td>127649</td>\n",
       "      <td>127649</td>\n",
       "      <td>127649</td>\n",
       "      <td>127649</td>\n",
       "      <td>...</td>\n",
       "      <td>127649</td>\n",
       "      <td>127649</td>\n",
       "      <td>127649</td>\n",
       "      <td>127649</td>\n",
       "      <td>127649</td>\n",
       "      <td>127649</td>\n",
       "      <td>127649</td>\n",
       "      <td>127649</td>\n",
       "      <td>127649</td>\n",
       "      <td>127649</td>\n",
       "    </tr>\n",
       "  </tbody>\n",
       "</table>\n",
       "<p>2 rows × 361 columns</p>\n",
       "</div>"
      ],
      "text/plain": [
       "               id  loanAmnt    term  interestRate  installment   grade  \\\n",
       "isDefault                                                                \n",
       "0          512351    512351  512351        512351       512351  512351   \n",
       "1          127649    127649  127649        127649       127649  127649   \n",
       "\n",
       "           subGrade  employmentTitle  employmentLength  homeOwnership  ...  \\\n",
       "isDefault                                                              ...   \n",
       "0            512351           512351            512351         512351  ...   \n",
       "1            127649           127649            127649         127649  ...   \n",
       "\n",
       "           n_der126  n_der127  n_der128  n_der129  n_der130  n_der131  \\\n",
       "isDefault                                                               \n",
       "0            512351    512351    512351    512351    512351    512351   \n",
       "1            127649    127649    127649    127649    127649    127649   \n",
       "\n",
       "           n_der132  n_der133  n_der134  n_der135  \n",
       "isDefault                                          \n",
       "0            512351    512351    512351    512351  \n",
       "1            127649    127649    127649    127649  \n",
       "\n",
       "[2 rows x 361 columns]"
      ]
     },
     "execution_count": 6,
     "metadata": {},
     "output_type": "execute_result"
    }
   ],
   "source": [
    "train_data.groupby(\"isDefault\").count()"
   ]
  },
  {
   "cell_type": "code",
   "execution_count": 7,
   "id": "2d5ca670",
   "metadata": {},
   "outputs": [
    {
     "data": {
      "text/html": [
       "<div>\n",
       "<style scoped>\n",
       "    .dataframe tbody tr th:only-of-type {\n",
       "        vertical-align: middle;\n",
       "    }\n",
       "\n",
       "    .dataframe tbody tr th {\n",
       "        vertical-align: top;\n",
       "    }\n",
       "\n",
       "    .dataframe thead th {\n",
       "        text-align: right;\n",
       "    }\n",
       "</style>\n",
       "<table border=\"1\" class=\"dataframe\">\n",
       "  <thead>\n",
       "    <tr style=\"text-align: right;\">\n",
       "      <th></th>\n",
       "      <th>id</th>\n",
       "      <th>loanAmnt</th>\n",
       "      <th>term</th>\n",
       "      <th>interestRate</th>\n",
       "      <th>installment</th>\n",
       "      <th>grade</th>\n",
       "      <th>subGrade</th>\n",
       "      <th>employmentTitle</th>\n",
       "      <th>employmentLength</th>\n",
       "      <th>homeOwnership</th>\n",
       "      <th>...</th>\n",
       "      <th>n_der126</th>\n",
       "      <th>n_der127</th>\n",
       "      <th>n_der128</th>\n",
       "      <th>n_der129</th>\n",
       "      <th>n_der130</th>\n",
       "      <th>n_der131</th>\n",
       "      <th>n_der132</th>\n",
       "      <th>n_der133</th>\n",
       "      <th>n_der134</th>\n",
       "      <th>n_der135</th>\n",
       "    </tr>\n",
       "    <tr>\n",
       "      <th>isDefault</th>\n",
       "      <th></th>\n",
       "      <th></th>\n",
       "      <th></th>\n",
       "      <th></th>\n",
       "      <th></th>\n",
       "      <th></th>\n",
       "      <th></th>\n",
       "      <th></th>\n",
       "      <th></th>\n",
       "      <th></th>\n",
       "      <th></th>\n",
       "      <th></th>\n",
       "      <th></th>\n",
       "      <th></th>\n",
       "      <th></th>\n",
       "      <th></th>\n",
       "      <th></th>\n",
       "      <th></th>\n",
       "      <th></th>\n",
       "      <th></th>\n",
       "      <th></th>\n",
       "    </tr>\n",
       "  </thead>\n",
       "  <tbody>\n",
       "    <tr>\n",
       "      <th>0</th>\n",
       "      <td>128039</td>\n",
       "      <td>128039</td>\n",
       "      <td>128039</td>\n",
       "      <td>128039</td>\n",
       "      <td>128039</td>\n",
       "      <td>128039</td>\n",
       "      <td>128039</td>\n",
       "      <td>128039</td>\n",
       "      <td>128039</td>\n",
       "      <td>128039</td>\n",
       "      <td>...</td>\n",
       "      <td>128039</td>\n",
       "      <td>128039</td>\n",
       "      <td>128039</td>\n",
       "      <td>128039</td>\n",
       "      <td>128039</td>\n",
       "      <td>128039</td>\n",
       "      <td>128039</td>\n",
       "      <td>128039</td>\n",
       "      <td>128039</td>\n",
       "      <td>128039</td>\n",
       "    </tr>\n",
       "    <tr>\n",
       "      <th>1</th>\n",
       "      <td>31961</td>\n",
       "      <td>31961</td>\n",
       "      <td>31961</td>\n",
       "      <td>31961</td>\n",
       "      <td>31961</td>\n",
       "      <td>31961</td>\n",
       "      <td>31961</td>\n",
       "      <td>31961</td>\n",
       "      <td>31961</td>\n",
       "      <td>31961</td>\n",
       "      <td>...</td>\n",
       "      <td>31961</td>\n",
       "      <td>31961</td>\n",
       "      <td>31961</td>\n",
       "      <td>31961</td>\n",
       "      <td>31961</td>\n",
       "      <td>31961</td>\n",
       "      <td>31961</td>\n",
       "      <td>31961</td>\n",
       "      <td>31961</td>\n",
       "      <td>31961</td>\n",
       "    </tr>\n",
       "  </tbody>\n",
       "</table>\n",
       "<p>2 rows × 361 columns</p>\n",
       "</div>"
      ],
      "text/plain": [
       "               id  loanAmnt    term  interestRate  installment   grade  \\\n",
       "isDefault                                                                \n",
       "0          128039    128039  128039        128039       128039  128039   \n",
       "1           31961     31961   31961         31961        31961   31961   \n",
       "\n",
       "           subGrade  employmentTitle  employmentLength  homeOwnership  ...  \\\n",
       "isDefault                                                              ...   \n",
       "0            128039           128039            128039         128039  ...   \n",
       "1             31961            31961             31961          31961  ...   \n",
       "\n",
       "           n_der126  n_der127  n_der128  n_der129  n_der130  n_der131  \\\n",
       "isDefault                                                               \n",
       "0            128039    128039    128039    128039    128039    128039   \n",
       "1             31961     31961     31961     31961     31961     31961   \n",
       "\n",
       "           n_der132  n_der133  n_der134  n_der135  \n",
       "isDefault                                          \n",
       "0            128039    128039    128039    128039  \n",
       "1             31961     31961     31961     31961  \n",
       "\n",
       "[2 rows x 361 columns]"
      ]
     },
     "execution_count": 7,
     "metadata": {},
     "output_type": "execute_result"
    }
   ],
   "source": [
    "test_data.groupby(\"isDefault\").count()"
   ]
  },
  {
   "cell_type": "code",
   "execution_count": 8,
   "id": "f419fdac",
   "metadata": {},
   "outputs": [],
   "source": [
    "#将特征与标签从数据集中剥离出来\n",
    "train_features = train_data.drop(columns = [\"isDefault\"]).copy()\n",
    "train_target = train_data[[\"isDefault\"]].copy()\n",
    "\n",
    "test_features = test_data.drop(columns = [\"isDefault\"]).copy()\n",
    "test_target = test_data[[\"isDefault\"]].copy()\n"
   ]
  },
  {
   "cell_type": "markdown",
   "id": "759be024",
   "metadata": {},
   "source": [
    "## 模型选择；\n",
    "基于模型泛化效果、可解释性考虑，初步选定以下三种模型框架进行尝试\n",
    "\n",
    "1.具有强解释性的决策树模型\n",
    "\n",
    "2.以bagging思想进行集成集成的随机森林模型\n",
    "\n",
    "3.以boosting思想进行集成的xgb模型\n",
    "\n",
    "\n",
    "我们将在每类探索的模型中，分别执行模型调参优化与模型评估工作"
   ]
  },
  {
   "cell_type": "markdown",
   "id": "31dcd2f0",
   "metadata": {},
   "source": [
    "# 决策树\n",
    "\n",
    "\n",
    "确定决策树的核心参数以及参数范围"
   ]
  },
  {
   "cell_type": "code",
   "execution_count": 8,
   "id": "cf12ef3f",
   "metadata": {},
   "outputs": [],
   "source": [
    "#依据多方资料与技术交流得到的调参信息\n",
    "#算力有限，此处跨度设定很粗\n",
    "max_depth = [i for i in range(5,11,2)] \n",
    "min_samples_split = [i for i in range(2,100,20)] \n",
    "min_samples_leaf = [i for i in range(1,50,10)] \n",
    "max_features = [i/10 for i in range(1,10,2)] \n",
    "criterion = [\"gini\",\"entropy\"]\n",
    "max_leaf_nodes = [100,500,50]\n",
    "class_weight = [{0:1,1:1},{0:2,1:1},{0:3,1:1},{0:4,1:1}]"
   ]
  },
  {
   "cell_type": "markdown",
   "id": "60bbecd5",
   "metadata": {},
   "source": [
    "将参数设定为网格搜索可使用的字典形式，因排列组合过多，可分批次进行搜索探索"
   ]
  },
  {
   "cell_type": "code",
   "execution_count": 9,
   "id": "1bdc9d71",
   "metadata": {},
   "outputs": [],
   "source": [
    "params_state1 = {\"max_depth\":max_depth,\"min_samples_split\":min_samples_split,\"min_samples_leaf\":min_samples_leaf}\n",
    "params_state2 = {\"max_features\":max_features,\"criterion\":criterion,\"max_leaf_nodes\":max_leaf_nodes}\n",
    "params_state3 = {\"class_weight\":class_weight}"
   ]
  },
  {
   "cell_type": "markdown",
   "id": "0123544f",
   "metadata": {},
   "source": [
    "此处调参可设置不同类别的评估指标，此处以auc为例"
   ]
  },
  {
   "cell_type": "code",
   "execution_count": null,
   "id": "ebe9a544",
   "metadata": {},
   "outputs": [],
   "source": [
    "best_params = {}\n",
    "clf_dt = tree.DecisionTreeClassifier()\n",
    "for each in [params_state1,params_state2,params_state3]:\n",
    "    clf_dt_mid = GridSearchCV(estimator=clf_dt, param_grid=each, scoring='roc_auc', cv=5,verbose=2)\n",
    "    clf_dt_mid.fit(train_features,train_target)\n",
    "    best_params.update(clf_dt_mid.best_params_)\n",
    "    clf_dt = tree.DecisionTreeClassifier(**best_params)\n",
    "#模型训练\n",
    "clf_dt.fit(train_features,train_target)"
   ]
  },
  {
   "cell_type": "code",
   "execution_count": 14,
   "id": "cef8ae9a",
   "metadata": {},
   "outputs": [
    {
     "data": {
      "text/plain": [
       "{'ccp_alpha': 0.0,\n",
       " 'class_weight': {0: 1, 1: 1},\n",
       " 'criterion': 'entropy',\n",
       " 'max_depth': 9,\n",
       " 'max_features': 0.9,\n",
       " 'max_leaf_nodes': 100,\n",
       " 'min_impurity_decrease': 0.0,\n",
       " 'min_samples_leaf': 1,\n",
       " 'min_samples_split': 82,\n",
       " 'min_weight_fraction_leaf': 0.0,\n",
       " 'random_state': None,\n",
       " 'splitter': 'best'}"
      ]
     },
     "execution_count": 14,
     "metadata": {},
     "output_type": "execute_result"
    }
   ],
   "source": [
    "#打印模型最优的参数与分数\n",
    "# print(clf_dt.best_params_)\n",
    "# print(clf_dt.best_score_)\n",
    "clf_dt.get_params()"
   ]
  },
  {
   "cell_type": "code",
   "execution_count": 244,
   "id": "5726f751",
   "metadata": {},
   "outputs": [
    {
     "name": "stdout",
     "output_type": "stream",
     "text": [
      "决策树模型最终在测试集上的KS为： 0.3025736349863007\n",
      "决策树模型最终在测试集上的auc为： 0.7096640341901865\n"
     ]
    },
    {
     "data": {
      "image/png": "[encoded data removed]",
      "text/plain": [
       "<Figure size 432x288 with 1 Axes>"
      ]
     },
     "metadata": {
      "needs_background": "light"
     },
     "output_type": "display_data"
    },
    {
     "name": "stdout",
     "output_type": "stream",
     "text": [
      "years_bucket          pred_bucket\n",
      "(39261.999, 41393.0]  (-0.1, 0.1]    0.060190\n",
      "                      (0.1, 0.2]     0.166222\n",
      "                      (0.2, 0.3]     0.234395\n",
      "                      (0.3, 0.4]     0.326255\n",
      "                      (0.4, 0.5]     0.401042\n",
      "                      (0.5, 0.6]     0.546512\n",
      "                      (0.6, 0.7]     0.714286\n",
      "                      (0.7, 0.8]          NaN\n",
      "                      (0.8, 0.9]          NaN\n",
      "                      (0.9, 1.0]          NaN\n",
      "(41393.0, 41697.0]    (-0.1, 0.1]    0.065737\n",
      "                      (0.1, 0.2]     0.151923\n",
      "                      (0.2, 0.3]     0.251007\n",
      "                      (0.3, 0.4]     0.356455\n",
      "                      (0.4, 0.5]     0.432836\n",
      "                      (0.5, 0.6]     0.488372\n",
      "                      (0.6, 0.7]     0.400000\n",
      "                      (0.7, 0.8]          NaN\n",
      "                      (0.8, 0.9]          NaN\n",
      "                      (0.9, 1.0]          NaN\n",
      "(41697.0, 41911.0]    (-0.1, 0.1]    0.063918\n",
      "                      (0.1, 0.2]     0.150993\n",
      "                      (0.2, 0.3]     0.270648\n",
      "                      (0.3, 0.4]     0.333992\n",
      "                      (0.4, 0.5]     0.422222\n",
      "                      (0.5, 0.6]     0.552381\n",
      "                      (0.6, 0.7]     0.636364\n",
      "                      (0.7, 0.8]          NaN\n",
      "                      (0.8, 0.9]          NaN\n",
      "                      (0.9, 1.0]          NaN\n",
      "Name: result, dtype: float64\n"
     ]
    }
   ],
   "source": [
    "#模型评估\n",
    "Model_evaluation(test_features,clf,test_target)"
   ]
  },
  {
   "cell_type": "code",
   "execution_count": 15,
   "id": "2d19e1ae",
   "metadata": {},
   "outputs": [
    {
     "name": "stdout",
     "output_type": "stream",
     "text": [
      "决策树模型最终在测试集上的auc为： 0.7094674535512921\n"
     ]
    }
   ],
   "source": [
    "#输出模型最终在测试集上的表现\n",
    "clf_dt_auc = auc_score_fig(clf_dt,test_features,test_target)\n",
    "print(\"决策树模型最终在测试集上的auc为：\",clf_dt_auc)"
   ]
  },
  {
   "cell_type": "code",
   "execution_count": 13,
   "id": "18438775",
   "metadata": {},
   "outputs": [
    {
     "data": {
      "text/plain": [
       "['C:\\\\Users\\\\17738\\\\贷款违约率预测\\\\模型存储\\\\决策树_风控模型.pkl']"
      ]
     },
     "execution_count": 13,
     "metadata": {},
     "output_type": "execute_result"
    }
   ],
   "source": [
    "#模型保存\n",
    "joblib.dump(clf_dt, r'C:\\Users\\17738\\贷款违约率预测\\模型存储\\决策树_风控模型.pkl')"
   ]
  },
  {
   "cell_type": "markdown",
   "id": "6b2d74bb",
   "metadata": {},
   "source": [
    "# 随机森林"
   ]
  },
  {
   "cell_type": "code",
   "execution_count": 12,
   "id": "0a0bb1db",
   "metadata": {},
   "outputs": [],
   "source": [
    "#依据多方资料与技术交流得到的调参信息\n",
    "#算力有限，此处跨度设定很粗\n",
    "n_estimators =[i for i in range(100,500,200)]\n",
    "max_depth = [i for i in range(10,100,40)] \n",
    "min_samples_split = [i for i in range(2,20,8)] \n",
    "min_samples_leaf = [i for i in range(1,10,3)] \n",
    "max_features = [i/10 for i in range(5,10,2)] "
   ]
  },
  {
   "cell_type": "code",
   "execution_count": 13,
   "id": "1eac4ef3",
   "metadata": {},
   "outputs": [],
   "source": [
    "params_state1 = {\"n_estimators\":n_estimators,\"max_depth\":max_depth}\n",
    "params_state2 = {\"min_samples_split\":min_samples_split,\"min_samples_leaf\":min_samples_leaf}\n",
    "params_state3 = {\"max_features\":max_features}"
   ]
  },
  {
   "cell_type": "code",
   "execution_count": null,
   "id": "bf4e531d",
   "metadata": {},
   "outputs": [],
   "source": [
    "best_params = {}\n",
    "clf_rf = RandomForestClassifier()\n",
    "for each in [params_state1,params_state2,params_state3]:\n",
    "    clf_rf_mid = GridSearchCV(estimator=clf_rf, param_grid=each, scoring='roc_auc', cv=5,verbose=2)\n",
    "    clf_rf_mid.fit(train_features,train_target)\n",
    "    best_params.update(clf_rf_mid.best_params_)\n",
    "    clf_rf = RandomForestClassifier(**best_params)"
   ]
  },
  {
   "cell_type": "code",
   "execution_count": null,
   "id": "ffe22f3e",
   "metadata": {},
   "outputs": [],
   "source": [
    "#模型训练\n",
    "clf_rf = RandomForestClassifier(max_depth = 10, n_estimators = 300)  #算力有限，此处仅调整部分参数\n",
    "clf_rf.fit(train_features,train_target)"
   ]
  },
  {
   "cell_type": "code",
   "execution_count": 34,
   "id": "24f5fcf8",
   "metadata": {},
   "outputs": [
    {
     "data": {
      "text/plain": [
       "{'bootstrap': True,\n",
       " 'ccp_alpha': 0.0,\n",
       " 'class_weight': None,\n",
       " 'criterion': 'gini',\n",
       " 'max_depth': 10,\n",
       " 'max_features': 'auto',\n",
       " 'max_leaf_nodes': None,\n",
       " 'max_samples': None,\n",
       " 'min_impurity_decrease': 0.0,\n",
       " 'min_samples_leaf': 1,\n",
       " 'min_samples_split': 2,\n",
       " 'min_weight_fraction_leaf': 0.0,\n",
       " 'n_estimators': 300,\n",
       " 'n_jobs': None,\n",
       " 'oob_score': False,\n",
       " 'random_state': None,\n",
       " 'verbose': 0,\n",
       " 'warm_start': False}"
      ]
     },
     "execution_count": 34,
     "metadata": {},
     "output_type": "execute_result"
    }
   ],
   "source": [
    "clf_rf.get_params()"
   ]
  },
  {
   "cell_type": "code",
   "execution_count": 18,
   "id": "f6674a42",
   "metadata": {},
   "outputs": [
    {
     "name": "stdout",
     "output_type": "stream",
     "text": [
      "决策树模型最终在测试集上的KS为： 0.30628954612477804\n",
      "决策树模型最终在测试集上的auc为： 0.7126097181797476\n"
     ]
    },
    {
     "data": {
      "image/png": "[encoded data removed]",
      "text/plain": [
       "<Figure size 432x288 with 1 Axes>"
      ]
     },
     "metadata": {
      "needs_background": "light"
     },
     "output_type": "display_data"
    },
    {
     "name": "stdout",
     "output_type": "stream",
     "text": [
      "years_bucket          pred_bucket\n",
      "(39261.999, 41393.0]  (-0.1, 0.1]    0.047273\n",
      "                      (0.1, 0.2]     0.137453\n",
      "                      (0.2, 0.3]     0.232253\n",
      "                      (0.3, 0.4]     0.381890\n",
      "                      (0.4, 0.5]     0.530612\n",
      "                      (0.5, 0.6]     1.000000\n",
      "                      (0.6, 0.7]          NaN\n",
      "                      (0.7, 0.8]          NaN\n",
      "                      (0.8, 0.9]          NaN\n",
      "                      (0.9, 1.0]          NaN\n",
      "(41393.0, 41697.0]    (-0.1, 0.1]    0.043478\n",
      "                      (0.1, 0.2]     0.130112\n",
      "                      (0.2, 0.3]     0.245023\n",
      "                      (0.3, 0.4]     0.396825\n",
      "                      (0.4, 0.5]     0.510870\n",
      "                      (0.5, 0.6]     0.500000\n",
      "                      (0.6, 0.7]          NaN\n",
      "                      (0.7, 0.8]          NaN\n",
      "                      (0.8, 0.9]          NaN\n",
      "                      (0.9, 1.0]          NaN\n",
      "(41697.0, 41911.0]    (-0.1, 0.1]    0.059625\n",
      "                      (0.1, 0.2]     0.120933\n",
      "                      (0.2, 0.3]     0.266720\n",
      "                      (0.3, 0.4]     0.382000\n",
      "                      (0.4, 0.5]     0.559140\n",
      "                      (0.5, 0.6]     0.750000\n",
      "                      (0.6, 0.7]          NaN\n",
      "                      (0.7, 0.8]          NaN\n",
      "                      (0.8, 0.9]          NaN\n",
      "                      (0.9, 1.0]          NaN\n",
      "Name: result, dtype: float64\n"
     ]
    }
   ],
   "source": [
    "#模型评估\n",
    "Model_evaluation(test_features,clf_rf,test_target)"
   ]
  },
  {
   "cell_type": "code",
   "execution_count": 35,
   "id": "11ca7497",
   "metadata": {},
   "outputs": [
    {
     "name": "stdout",
     "output_type": "stream",
     "text": [
      "决策树模型最终在测试集上的auc为： 0.7183534799913893\n"
     ]
    }
   ],
   "source": [
    "#输出模型最终在测试集上的表现\n",
    "clf_rf_auc = auc_score_fig(clf_rf,test_features,test_target)\n",
    "print(\"随机森林模型最终在测试集上的auc为：\",clf_rf_auc)"
   ]
  },
  {
   "cell_type": "code",
   "execution_count": 36,
   "id": "1ddf0c00",
   "metadata": {},
   "outputs": [
    {
     "data": {
      "text/plain": [
       "['C:\\\\Users\\\\17738\\\\贷款违约率预测\\\\模型存储\\\\随机森林_风控模型.pkl']"
      ]
     },
     "execution_count": 36,
     "metadata": {},
     "output_type": "execute_result"
    }
   ],
   "source": [
    "#模型保存\n",
    "joblib.dump(clf_rf, r'C:\\Users\\17738\\贷款违约率预测\\模型存储\\随机森林_风控模型.pkl')"
   ]
  },
  {
   "cell_type": "markdown",
   "id": "d8dcbae1",
   "metadata": {},
   "source": [
    "# XGBOOST"
   ]
  },
  {
   "cell_type": "code",
   "execution_count": 37,
   "id": "a6eeff61",
   "metadata": {},
   "outputs": [],
   "source": [
    "#依据多方资料与技术交流得到的调参信息\n",
    "#算力有限，此处跨度设定很粗\n",
    "n_estimators_list=[i for i in range(1,121,40)]   \n",
    "learning_rate_list=[i/100 for i in range(1,42,5)]  \n",
    "max_depth_list=[i for i in range(3,11,4)]\n",
    "max_delta_step_list=[i for i in range(1,11,4)]  \n",
    "min_child_weight_list=[i for i in range(1,13,4)]\n",
    "gamma_list=[i/10 for i in range(1,11,4)]\n",
    "subsample_list=[i/10 for i in range(5,11,4)]\n",
    "colsample_bytree_list=[i/10 for i in range(5,11,4)]\n",
    "scale_pos_weight_list=[i/10 for i in range(5,42,15)]   \n",
    "reg_alpha_list=[0, 0.001, 0.005, 0.01,0.05, 0.1, 1, 2, 3]\n",
    "reg_lambda_list=[0, 0.001, 0.005, 0.01,0.05, 0.1, 1, 2, 3]"
   ]
  },
  {
   "cell_type": "code",
   "execution_count": 38,
   "id": "e319d7e2",
   "metadata": {},
   "outputs": [],
   "source": [
    "params_state1 = {'n_estimators': n_estimators_list,'learning_rate':learning_rate_list,'objective':['binary:logistic']}\n",
    "params_state2 = {'scale_pos_weight': scale_pos_weight_list,'max_delta_step':max_delta_step_list}\n",
    "params_state3 = {'max_depth':max_depth_list,'min_child_weight':min_child_weight_list,'gamma':gamma_list}\n",
    "params_state4 = {'subsample':subsample_list,'colsample_bytree':colsample_bytree_list}\n",
    "params_state5 = {'reg_alpha':reg_alpha_list,'reg_lambda':reg_lambda_list}"
   ]
  },
  {
   "cell_type": "code",
   "execution_count": null,
   "id": "1461c668",
   "metadata": {},
   "outputs": [],
   "source": [
    "best_params = {}\n",
    "clf_xgb = XGBClassifier()\n",
    "for each in [params_state1,params_state2,params_state3]:\n",
    "    clf_xgb_mid = GridSearchCV(estimator=clf_xgb, param_grid=each, scoring='roc_auc', cv=5,verbose=2)\n",
    "    clf_xgb_mid.fit(train_features,train_target)\n",
    "    best_params.update(clf_xgb_mid.best_params_)\n",
    "    clf_xgb = XGBClassifier(**best_params)\n",
    "#模型训练\n",
    "clf_xgb.fit(train_features,train_target)"
   ]
  },
  {
   "cell_type": "code",
   "execution_count": 42,
   "id": "20058355",
   "metadata": {},
   "outputs": [
    {
     "data": {
      "text/plain": [
       "XGBClassifier(base_score=None, booster=None, callbacks=None,\n",
       "              colsample_bylevel=None, colsample_bynode=None,\n",
       "              colsample_bytree=None, device=None, early_stopping_rounds=None,\n",
       "              enable_categorical=False, eval_metric=None, feature_types=None,\n",
       "              gamma=None, grow_policy=None, importance_type=None,\n",
       "              interaction_constraints=None, learning_rate=None, max_bin=None,\n",
       "              max_cat_threshold=None, max_cat_to_onehot=None,\n",
       "              max_delta_step=None, max_depth=None, max_leaves=None,\n",
       "              min_child_weight=None, missing=nan, monotone_constraints=None,\n",
       "              multi_strategy=None, n_estimators=None, n_jobs=None,\n",
       "              num_parallel_tree=None, random_state=None, ...)"
      ]
     },
     "execution_count": 42,
     "metadata": {},
     "output_type": "execute_result"
    }
   ],
   "source": [
    "#模型训练\n",
    "clf_xgb = XGBClassifier()  #算力有限，此处仅展示调参代码，仍使用默认参数作为最终结果\n",
    "clf_xgb.fit(train_features,train_target)"
   ]
  },
  {
   "cell_type": "code",
   "execution_count": 43,
   "id": "99ea796b",
   "metadata": {},
   "outputs": [
    {
     "data": {
      "text/plain": [
       "{'objective': 'binary:logistic',\n",
       " 'base_score': None,\n",
       " 'booster': None,\n",
       " 'callbacks': None,\n",
       " 'colsample_bylevel': None,\n",
       " 'colsample_bynode': None,\n",
       " 'colsample_bytree': None,\n",
       " 'device': None,\n",
       " 'early_stopping_rounds': None,\n",
       " 'enable_categorical': False,\n",
       " 'eval_metric': None,\n",
       " 'feature_types': None,\n",
       " 'gamma': None,\n",
       " 'grow_policy': None,\n",
       " 'importance_type': None,\n",
       " 'interaction_constraints': None,\n",
       " 'learning_rate': None,\n",
       " 'max_bin': None,\n",
       " 'max_cat_threshold': None,\n",
       " 'max_cat_to_onehot': None,\n",
       " 'max_delta_step': None,\n",
       " 'max_depth': None,\n",
       " 'max_leaves': None,\n",
       " 'min_child_weight': None,\n",
       " 'missing': nan,\n",
       " 'monotone_constraints': None,\n",
       " 'multi_strategy': None,\n",
       " 'n_estimators': None,\n",
       " 'n_jobs': None,\n",
       " 'num_parallel_tree': None,\n",
       " 'random_state': None,\n",
       " 'reg_alpha': None,\n",
       " 'reg_lambda': None,\n",
       " 'sampling_method': None,\n",
       " 'scale_pos_weight': None,\n",
       " 'subsample': None,\n",
       " 'tree_method': None,\n",
       " 'validate_parameters': None,\n",
       " 'verbosity': None}"
      ]
     },
     "execution_count": 43,
     "metadata": {},
     "output_type": "execute_result"
    }
   ],
   "source": [
    "clf_xgb.get_params()"
   ]
  },
  {
   "cell_type": "code",
   "execution_count": 22,
   "id": "a4014aaf",
   "metadata": {},
   "outputs": [
    {
     "name": "stdout",
     "output_type": "stream",
     "text": [
      "决策树模型最终在测试集上的KS为： 0.3282237321487944\n",
      "决策树模型最终在测试集上的auc为： 0.7257008629936672\n"
     ]
    },
    {
     "data": {
      "image/png": "[encoded data removed]",
      "text/plain": [
       "<Figure size 432x288 with 1 Axes>"
      ]
     },
     "metadata": {
      "needs_background": "light"
     },
     "output_type": "display_data"
    },
    {
     "name": "stdout",
     "output_type": "stream",
     "text": [
      "years_bucket          pred_bucket\n",
      "(39261.999, 41393.0]  (-0.1, 0.1]    0.066724\n",
      "                      (0.1, 0.2]     0.162470\n",
      "                      (0.2, 0.3]     0.238158\n",
      "                      (0.3, 0.4]     0.305804\n",
      "                      (0.4, 0.5]     0.388235\n",
      "                      (0.5, 0.6]     0.495868\n",
      "                      (0.6, 0.7]     0.707317\n",
      "                      (0.7, 0.8]     0.571429\n",
      "                      (0.8, 0.9]     1.000000\n",
      "                      (0.9, 1.0]          NaN\n",
      "(41393.0, 41697.0]    (-0.1, 0.1]    0.069102\n",
      "                      (0.1, 0.2]     0.148571\n",
      "                      (0.2, 0.3]     0.267835\n",
      "                      (0.3, 0.4]     0.321678\n",
      "                      (0.4, 0.5]     0.408333\n",
      "                      (0.5, 0.6]     0.545455\n",
      "                      (0.6, 0.7]     0.465116\n",
      "                      (0.7, 0.8]     0.428571\n",
      "                      (0.8, 0.9]          NaN\n",
      "                      (0.9, 1.0]     1.000000\n",
      "(41697.0, 41911.0]    (-0.1, 0.1]    0.061990\n",
      "                      (0.1, 0.2]     0.166804\n",
      "                      (0.2, 0.3]     0.249671\n",
      "                      (0.3, 0.4]     0.343891\n",
      "                      (0.4, 0.5]     0.401515\n",
      "                      (0.5, 0.6]     0.504950\n",
      "                      (0.6, 0.7]     0.540000\n",
      "                      (0.7, 0.8]     0.666667\n",
      "                      (0.8, 0.9]     0.500000\n",
      "                      (0.9, 1.0]          NaN\n",
      "Name: result, dtype: float64\n"
     ]
    }
   ],
   "source": [
    "#模型评估\n",
    "Model_evaluation(test_features,clf_xgb,test_target)"
   ]
  },
  {
   "cell_type": "code",
   "execution_count": 44,
   "id": "ca56d18f",
   "metadata": {},
   "outputs": [
    {
     "name": "stdout",
     "output_type": "stream",
     "text": [
      "XGB模型最终在测试集上的auc为： 0.7338299478711378\n"
     ]
    }
   ],
   "source": [
    "#输出模型最终在测试集上的表现\n",
    "clf_xgb_auc = auc_score_fig(clf_xgb,test_features,test_target)\n",
    "print(\"XGB模型最终在测试集上的auc为：\",clf_xgb_auc)"
   ]
  },
  {
   "cell_type": "code",
   "execution_count": 45,
   "id": "e1c9461a",
   "metadata": {},
   "outputs": [
    {
     "data": {
      "text/plain": [
       "['C:\\\\Users\\\\17738\\\\贷款违约率预测\\\\模型存储\\\\随XGB_风控模型.pkl']"
      ]
     },
     "execution_count": 45,
     "metadata": {},
     "output_type": "execute_result"
    }
   ],
   "source": [
    "#模型保存\n",
    "joblib.dump(clf_xgb, r'C:\\Users\\17738\\贷款违约率预测\\模型存储\\随XGB_风控模型.pkl')"
   ]
  },
  {
   "cell_type": "markdown",
   "id": "ed3ff9ee",
   "metadata": {},
   "source": [
    "# 模型评分区间转化\n",
    "## 将输出概率转化为评分区间以便实际业务的执行\n",
    "\n",
    "1.对数转换法\n",
    "\n",
    "2.标准化法\n",
    "\n",
    "3.分位数转换法\n",
    "\n",
    "4.混合法\n",
    "\n",
    "可以根据业务需要选择使用。此处以\"对数转化法\"举例"
   ]
  },
  {
   "cell_type": "code",
   "execution_count": 45,
   "id": "4ceda747",
   "metadata": {},
   "outputs": [
    {
     "data": {
      "text/html": [
       "<div>\n",
       "<style scoped>\n",
       "    .dataframe tbody tr th:only-of-type {\n",
       "        vertical-align: middle;\n",
       "    }\n",
       "\n",
       "    .dataframe tbody tr th {\n",
       "        vertical-align: top;\n",
       "    }\n",
       "\n",
       "    .dataframe thead th {\n",
       "        text-align: right;\n",
       "    }\n",
       "</style>\n",
       "<table border=\"1\" class=\"dataframe\">\n",
       "  <thead>\n",
       "    <tr style=\"text-align: right;\">\n",
       "      <th></th>\n",
       "      <th>索引ID</th>\n",
       "      <th>评估概率</th>\n",
       "      <th>映射分数</th>\n",
       "    </tr>\n",
       "  </thead>\n",
       "  <tbody>\n",
       "    <tr>\n",
       "      <th>0</th>\n",
       "      <td>670935</td>\n",
       "      <td>0.202739</td>\n",
       "      <td>265.036756</td>\n",
       "    </tr>\n",
       "    <tr>\n",
       "      <th>1</th>\n",
       "      <td>649589</td>\n",
       "      <td>0.470955</td>\n",
       "      <td>327.684503</td>\n",
       "    </tr>\n",
       "    <tr>\n",
       "      <th>2</th>\n",
       "      <td>2028</td>\n",
       "      <td>0.163952</td>\n",
       "      <td>252.044300</td>\n",
       "    </tr>\n",
       "    <tr>\n",
       "      <th>3</th>\n",
       "      <td>669856</td>\n",
       "      <td>0.202585</td>\n",
       "      <td>264.989353</td>\n",
       "    </tr>\n",
       "    <tr>\n",
       "      <th>4</th>\n",
       "      <td>458897</td>\n",
       "      <td>0.078763</td>\n",
       "      <td>210.536609</td>\n",
       "    </tr>\n",
       "    <tr>\n",
       "      <th>...</th>\n",
       "      <td>...</td>\n",
       "      <td>...</td>\n",
       "      <td>...</td>\n",
       "    </tr>\n",
       "    <tr>\n",
       "      <th>159995</th>\n",
       "      <td>545479</td>\n",
       "      <td>0.049237</td>\n",
       "      <td>185.468803</td>\n",
       "    </tr>\n",
       "    <tr>\n",
       "      <th>159996</th>\n",
       "      <td>252301</td>\n",
       "      <td>0.284632</td>\n",
       "      <td>287.419935</td>\n",
       "    </tr>\n",
       "    <tr>\n",
       "      <th>159997</th>\n",
       "      <td>706417</td>\n",
       "      <td>0.036662</td>\n",
       "      <td>170.066281</td>\n",
       "    </tr>\n",
       "    <tr>\n",
       "      <th>159998</th>\n",
       "      <td>518155</td>\n",
       "      <td>0.047279</td>\n",
       "      <td>183.336851</td>\n",
       "    </tr>\n",
       "    <tr>\n",
       "      <th>159999</th>\n",
       "      <td>306135</td>\n",
       "      <td>0.158837</td>\n",
       "      <td>250.154532</td>\n",
       "    </tr>\n",
       "  </tbody>\n",
       "</table>\n",
       "<p>160000 rows × 3 columns</p>\n",
       "</div>"
      ],
      "text/plain": [
       "          索引ID      评估概率        映射分数\n",
       "0       670935  0.202739  265.036756\n",
       "1       649589  0.470955  327.684503\n",
       "2         2028  0.163952  252.044300\n",
       "3       669856  0.202585  264.989353\n",
       "4       458897  0.078763  210.536609\n",
       "...        ...       ...         ...\n",
       "159995  545479  0.049237  185.468803\n",
       "159996  252301  0.284632  287.419935\n",
       "159997  706417  0.036662  170.066281\n",
       "159998  518155  0.047279  183.336851\n",
       "159999  306135  0.158837  250.154532\n",
       "\n",
       "[160000 rows x 3 columns]"
      ]
     },
     "execution_count": 45,
     "metadata": {},
     "output_type": "execute_result"
    }
   ],
   "source": [
    "y_pred = clf.predict_proba(test_features)[:,1]\n",
    "df_result = pd.DataFrame({'索引ID': test_features.index, '评估概率': y_pred})\n",
    "df_result[\"索引ID\"] = test_features.index\n",
    "df_result[\"评估概率\"] = y_pred\n",
    "df_result[\"映射分数\"] = df_result[\"评估概率\"].apply(lambda x : 50 * np.log(x/(1-x))+333.5)\n",
    "df_result"
   ]
  },
  {
   "cell_type": "code",
   "execution_count": 44,
   "id": "3929bb84",
   "metadata": {},
   "outputs": [
    {
     "data": {
      "text/html": [
       "<div>\n",
       "<style scoped>\n",
       "    .dataframe tbody tr th:only-of-type {\n",
       "        vertical-align: middle;\n",
       "    }\n",
       "\n",
       "    .dataframe tbody tr th {\n",
       "        vertical-align: top;\n",
       "    }\n",
       "\n",
       "    .dataframe thead th {\n",
       "        text-align: right;\n",
       "    }\n",
       "</style>\n",
       "<table border=\"1\" class=\"dataframe\">\n",
       "  <thead>\n",
       "    <tr style=\"text-align: right;\">\n",
       "      <th></th>\n",
       "      <th>索引ID</th>\n",
       "      <th>评估概率</th>\n",
       "      <th>映射分数</th>\n",
       "    </tr>\n",
       "  </thead>\n",
       "  <tbody>\n",
       "    <tr>\n",
       "      <th>count</th>\n",
       "      <td>160000.000000</td>\n",
       "      <td>160000.000000</td>\n",
       "      <td>160000.000000</td>\n",
       "    </tr>\n",
       "    <tr>\n",
       "      <th>mean</th>\n",
       "      <td>400093.321412</td>\n",
       "      <td>0.198037</td>\n",
       "      <td>249.512269</td>\n",
       "    </tr>\n",
       "    <tr>\n",
       "      <th>std</th>\n",
       "      <td>230776.855103</td>\n",
       "      <td>0.144326</td>\n",
       "      <td>51.771712</td>\n",
       "    </tr>\n",
       "    <tr>\n",
       "      <th>min</th>\n",
       "      <td>8.000000</td>\n",
       "      <td>0.001267</td>\n",
       "      <td>0.000856</td>\n",
       "    </tr>\n",
       "    <tr>\n",
       "      <th>25%</th>\n",
       "      <td>200699.500000</td>\n",
       "      <td>0.088067</td>\n",
       "      <td>216.626477</td>\n",
       "    </tr>\n",
       "    <tr>\n",
       "      <th>50%</th>\n",
       "      <td>400461.500000</td>\n",
       "      <td>0.161759</td>\n",
       "      <td>251.240276</td>\n",
       "    </tr>\n",
       "    <tr>\n",
       "      <th>75%</th>\n",
       "      <td>599736.750000</td>\n",
       "      <td>0.274011</td>\n",
       "      <td>284.781550</td>\n",
       "    </tr>\n",
       "    <tr>\n",
       "      <th>max</th>\n",
       "      <td>799999.000000</td>\n",
       "      <td>0.948338</td>\n",
       "      <td>478.999274</td>\n",
       "    </tr>\n",
       "  </tbody>\n",
       "</table>\n",
       "</div>"
      ],
      "text/plain": [
       "                索引ID           评估概率           映射分数\n",
       "count  160000.000000  160000.000000  160000.000000\n",
       "mean   400093.321412       0.198037     249.512269\n",
       "std    230776.855103       0.144326      51.771712\n",
       "min         8.000000       0.001267       0.000856\n",
       "25%    200699.500000       0.088067     216.626477\n",
       "50%    400461.500000       0.161759     251.240276\n",
       "75%    599736.750000       0.274011     284.781550\n",
       "max    799999.000000       0.948338     478.999274"
      ]
     },
     "execution_count": 44,
     "metadata": {},
     "output_type": "execute_result"
    }
   ],
   "source": [
    "df_result.describe()"
   ]
  },
  {
   "cell_type": "markdown",
   "id": "16cd21c9",
   "metadata": {},
   "source": [
    "# 项目代码仅为展现本人在数据挖掘方面的技能。因时间与算力有限，当前内容仅完成模型搭建的核心环节，后期会逐步完善以下内容：\n",
    "\n",
    "    \n",
    "# 1.模型融合：\n",
    "\n",
    "    尝试使用平均法与投票法进行模型融合；\n",
    "    \n",
    "# 2.调参优化：\n",
    "\n",
    "    尝试使用随机调参与贝叶斯调参进行参数组合的探索；\n",
    "    \n",
    "# 3.模型部署与监控：\n",
    "\n",
    "    补充梳理模型部署与监控的通用思路；"
   ]
  }
 ],
 "metadata": {
  "kernelspec": {
   "display_name": "Python 3 (ipykernel)",
   "language": "python",
   "name": "python3"
  },
  "language_info": {
   "codemirror_mode": {
    "name": "ipython",
    "version": 3
   },
   "file_extension": ".py",
   "mimetype": "text/x-python",
   "name": "python",
   "nbconvert_exporter": "python",
   "pygments_lexer": "ipython3",
   "version": "3.9.12"
  }
 },
 "nbformat": 4,
 "nbformat_minor": 5
}
